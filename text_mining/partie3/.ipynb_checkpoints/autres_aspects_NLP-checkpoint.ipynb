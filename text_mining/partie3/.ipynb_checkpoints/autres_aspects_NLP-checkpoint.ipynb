{
 "cells": [
  {
   "cell_type": "markdown",
   "metadata": {},
   "source": [
    "# Partie 3/3 : Différentes applications du NLP\n",
    "\n",
    "François HU - Data scientist au DataLab de la Société Générale Assurances - *19/11/19*"
   ]
  },
  {
   "cell_type": "markdown",
   "metadata": {},
   "source": [
    "- catégorisation des textes\n",
    "\n",
    "- clustering des textes\n",
    "\n",
    "- analyse des sentiments\n",
    "\n",
    "- **Traducteur Machine**\n",
    "\n",
    "- **Résumé de texte**\n",
    "\n",
    "- **Simplification de texte**\n",
    "\n",
    "- **chit-chat bot (NLU / DM)**\n",
    "\n",
    "- **question answering (NLU / DM)**\n",
    "\n",
    "- **speech recognition**\n",
    "\n",
    "- ..."
   ]
  },
  {
   "cell_type": "code",
   "execution_count": null,
   "metadata": {},
   "outputs": [],
   "source": []
  }
 ],
 "metadata": {
  "kernelspec": {
   "display_name": "Python 3",
   "language": "python",
   "name": "python3"
  },
  "language_info": {
   "codemirror_mode": {
    "name": "ipython",
    "version": 3
   },
   "file_extension": ".py",
   "mimetype": "text/x-python",
   "name": "python",
   "nbconvert_exporter": "python",
   "pygments_lexer": "ipython3",
   "version": "3.7.3"
  }
 },
 "nbformat": 4,
 "nbformat_minor": 2
}
