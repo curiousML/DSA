{
 "cells": [
  {
   "cell_type": "markdown",
   "metadata": {
    "slideshow": {
     "slide_type": "slide"
    }
   },
   "source": [
    "# TP sur le topic modeling (corrigé)\n",
    "\n",
    "François HU - Data scientist au DataLab de la Société Générale Assurances - *19/11/19* - https://nbviewer.jupyter.org/github/curiousML/DSA/tree/master/text_mining/"
   ]
  },
  {
   "cell_type": "code",
   "execution_count": 2,
   "metadata": {
    "slideshow": {
     "slide_type": "-"
    }
   },
   "outputs": [
    {
     "data": {
      "text/html": [
       "<div id=\"my_id_menu_nb\">run previous cell, wait for 2 seconds</div>\n",
       "<script>\n",
       "function repeat_indent_string(n){\n",
       "    var a = \"\" ;\n",
       "    for ( ; n > 0 ; --n)\n",
       "        a += \"    \";\n",
       "    return a;\n",
       "}\n",
       "// look up into all sections and builds an automated menu //\n",
       "var update_menu_string = function(begin, lfirst, llast, sformat, send, keep_item, begin_format, end_format) {\n",
       "    var anchors = document.getElementsByClassName(\"section\");\n",
       "    if (anchors.length == 0) {\n",
       "        anchors = document.getElementsByClassName(\"text_cell_render rendered_html\");\n",
       "    }\n",
       "    var i,t;\n",
       "    var text_menu = begin;\n",
       "    var text_memo = \"<pre>\\nlength:\" + anchors.length + \"\\n\";\n",
       "    var ind = \"\";\n",
       "    var memo_level = 1;\n",
       "    var href;\n",
       "    var tags = [];\n",
       "    var main_item = 0;\n",
       "    var format_open = 0;\n",
       "    for (i = 0; i <= llast; i++)\n",
       "        tags.push(\"h\" + i);\n",
       "\n",
       "    for (i = 0; i < anchors.length; i++) {\n",
       "        text_memo += \"**\" + anchors[i].id + \"--\\n\";\n",
       "\n",
       "        var child = null;\n",
       "        for(t = 0; t < tags.length; t++) {\n",
       "            var r = anchors[i].getElementsByTagName(tags[t]);\n",
       "            if (r.length > 0) {\n",
       "child = r[0];\n",
       "break;\n",
       "            }\n",
       "        }\n",
       "        if (child == null) {\n",
       "            text_memo += \"null\\n\";\n",
       "            continue;\n",
       "        }\n",
       "        if (anchors[i].hasAttribute(\"id\")) {\n",
       "            // when converted in RST\n",
       "            href = anchors[i].id;\n",
       "            text_memo += \"#1-\" + href;\n",
       "            // passer à child suivant (le chercher)\n",
       "        }\n",
       "        else if (child.hasAttribute(\"id\")) {\n",
       "            // in a notebook\n",
       "            href = child.id;\n",
       "            text_memo += \"#2-\" + href;\n",
       "        }\n",
       "        else {\n",
       "            text_memo += \"#3-\" + \"*\" + \"\\n\";\n",
       "            continue;\n",
       "        }\n",
       "        var title = child.textContent;\n",
       "        var level = parseInt(child.tagName.substring(1,2));\n",
       "\n",
       "        text_memo += \"--\" + level + \"?\" + lfirst + \"--\" + title + \"\\n\";\n",
       "\n",
       "        if ((level < lfirst) || (level > llast)) {\n",
       "            continue ;\n",
       "        }\n",
       "        if (title.endsWith('¶')) {\n",
       "            title = title.substring(0,title.length-1).replace(\"<\", \"&lt;\")\n",
       "         .replace(\">\", \"&gt;\").replace(\"&\", \"&amp;\");\n",
       "        }\n",
       "        if (title.length == 0) {\n",
       "            continue;\n",
       "        }\n",
       "\n",
       "        while (level < memo_level) {\n",
       "            text_menu += end_format + \"</ul>\\n\";\n",
       "            format_open -= 1;\n",
       "            memo_level -= 1;\n",
       "        }\n",
       "        if (level == lfirst) {\n",
       "            main_item += 1;\n",
       "        }\n",
       "        if (keep_item != -1 && main_item != keep_item + 1) {\n",
       "            // alert(main_item + \" - \" + level + \" - \" + keep_item);\n",
       "            continue;\n",
       "        }\n",
       "        while (level > memo_level) {\n",
       "            text_menu += \"<ul>\\n\";\n",
       "            memo_level += 1;\n",
       "        }\n",
       "        text_menu += repeat_indent_string(level-2);\n",
       "        text_menu += begin_format + sformat.replace(\"__HREF__\", href).replace(\"__TITLE__\", title);\n",
       "        format_open += 1;\n",
       "    }\n",
       "    while (1 < memo_level) {\n",
       "        text_menu += end_format + \"</ul>\\n\";\n",
       "        memo_level -= 1;\n",
       "        format_open -= 1;\n",
       "    }\n",
       "    text_menu += send;\n",
       "    //text_menu += \"\\n\" + text_memo;\n",
       "\n",
       "    while (format_open > 0) {\n",
       "        text_menu += end_format;\n",
       "        format_open -= 1;\n",
       "    }\n",
       "    return text_menu;\n",
       "};\n",
       "var update_menu = function() {\n",
       "    var sbegin = \"\";\n",
       "    var sformat = '<a href=\"#__HREF__\">__TITLE__</a>';\n",
       "    var send = \"\";\n",
       "    var begin_format = '<li>';\n",
       "    var end_format = '</li>';\n",
       "    var keep_item = -1;\n",
       "    var text_menu = update_menu_string(sbegin, 2, 4, sformat, send, keep_item,\n",
       "       begin_format, end_format);\n",
       "    var menu = document.getElementById(\"my_id_menu_nb\");\n",
       "    menu.innerHTML=text_menu;\n",
       "};\n",
       "window.setTimeout(update_menu,2000);\n",
       "            </script>"
      ],
      "text/plain": [
       "<IPython.core.display.HTML object>"
      ]
     },
     "execution_count": 2,
     "metadata": {},
     "output_type": "execute_result"
    }
   ],
   "source": [
    "from jyquickhelper import add_notebook_menu\n",
    "add_notebook_menu()"
   ]
  },
  {
   "cell_type": "markdown",
   "metadata": {
    "slideshow": {
     "slide_type": "subslide"
    }
   },
   "source": [
    "**Introduction**\n",
    "\n",
    "Les topic models (*modèles thématiques* en français) sont une famille de modèles qui sont capables de découvrir les topics (*thèmes* en français) d'une collection de documents textuels. Dans ce contexte, le terme \"**topic**\" désigne des groupes de mots qui se retrouvent souvent ensemble dans un même document. Par exemple, dans un recueil d'articles de journaux, un topic model peut identifier un topic composé des mots :\n",
    "- \"homme politique\", \"droit\" et \"parlement\", et un autre caractérisé par \n",
    "- \"joueur\", \"match\" et \"carton rouge\"\n",
    "\n",
    "Les topics modeling ne peuvent pas affecter un titre à ces topics : c'est notre tâche d'interpréter ces topics et de leur donner des étiquettes telles que \"politique\" et \"football\".\n",
    "\n",
    "L'un des modèles les plus populaires est le LDA. Le LDA (cf. <font color = \"red\">sections précédentes</font>) est un modèle génératif qui considère chaque document comme un mélange de topics. Ce sont ces topics qui seront en charge de générer les mots. Par exemple, le topic \"football\" générera le mot \"pénalité\" avec une probabilité élevée, tandis que le topic \"politique\" aura une probabilité beaucoup plus élevée pour générer le mot \"politicien\" que pour générer le mot \"pénalité\"."
   ]
  },
  {
   "cell_type": "markdown",
   "metadata": {
    "slideshow": {
     "slide_type": "subslide"
    }
   },
   "source": [
    "### Données : Grand Débat National\n",
    "\n",
    "- L'un des contextes où la modélisation des topics est très utile est celui des questions ouvertes. Il nous permet d'explorer la variation des topics abordés dans les réponses des gens. \n",
    "\n",
    "- Dans ce notebook nous allons explorer un ensemble complet de réponses du [Grand Débat National](https://granddebat.fr/), le débat public organisé par le président Macron. Le but du débat était de mieux comprendre les besoins et les opinions des Français suite aux manifestations des gilets jaunes. Les résultats de ce débat sont maintenant disponibles sous forme de [données ouvertes](https://granddebat.fr/pages/donnees-ouvertes). \n",
    "\n",
    "- Nous allons tout d'abord télécharger un des fichiers csv sur la transition écologique et charger le contenu dans un dataframe [pandas](https://pandas.pydata.org/)."
   ]
  },
  {
   "cell_type": "markdown",
   "metadata": {
    "slideshow": {
     "slide_type": "subslide"
    }
   },
   "source": [
    "### 3.1. Charger les données"
   ]
  },
  {
   "cell_type": "code",
   "execution_count": 1,
   "metadata": {
    "slideshow": {
     "slide_type": "-"
    }
   },
   "outputs": [
    {
     "name": "stderr",
     "output_type": "stream",
     "text": [
      "/miniconda3/envs/xeus-cling2/lib/python3.7/site-packages/IPython/core/interactiveshell.py:3049: DtypeWarning: Columns (6) have mixed types. Specify dtype option on import or set low_memory=False.\n",
      "  interactivity=interactivity, compiler=compiler, result=result)\n"
     ]
    }
   ],
   "source": [
    "import pandas as pd\n",
    "\n",
    "# indiquer le chemin du fichier\n",
    "chemin = \"https://raw.githubusercontent.com/curiousML/DSA/master/text_mining/data/LA_TRANSITION_ECOLOGIQUE.csv\"\n",
    "#\"/chemin/menant/a/LA_TRANSITION_ECOLOGIQUE.csv\"\n",
    "\n",
    "# notre dataframe\n",
    "df = pd.read_csv(chemin, error_bad_lines=False, warn_bad_lines=False)"
   ]
  },
  {
   "cell_type": "markdown",
   "metadata": {
    "slideshow": {
     "slide_type": "subslide"
    }
   },
   "source": [
    "Chacune des lignes de ce dataframe ``df`` contient des réponses répondant à une liste de questions sur la transition écologique. Certaines de ces questions sont à choix multiples, tandis que d'autres sont des questions ouvertes. "
   ]
  },
  {
   "cell_type": "code",
   "execution_count": 2,
   "metadata": {
    "slideshow": {
     "slide_type": "-"
    }
   },
   "outputs": [
    {
     "data": {
      "text/plain": [
       "Index(['reference', 'title', 'createdAt', 'publishedAt', 'updatedAt',\n",
       "       'trashed', 'trashedStatus', 'authorId', 'authorType', 'authorZipCode',\n",
       "       'Quel est aujourd'hui pour vous le problème concret le plus important dans le domaine de l'environnement ?',\n",
       "       'Que faudrait-il faire selon vous pour apporter des réponses à ce problème ?',\n",
       "       'Diriez-vous que votre vie quotidienne est aujourd'hui touchée par le changement climatique ?',\n",
       "       'Si oui, de quelle manière votre vie quotidienne est-elle touchée par le changement climatique ?',\n",
       "       'À titre personnel, pensez-vous pouvoir contribuer à protéger l'environnement ?',\n",
       "       'Si oui, que faites-vous aujourd'hui pour protéger l'environnement et/ou que pourriez-vous faire ?',\n",
       "       'Qu'est-ce qui pourrait vous inciter à changer vos comportements comme par exemple mieux entretenir et régler votre chauffage, modifier votre manière de conduire ou renoncer à prendre votre véhicule pour de très petites distances ?',\n",
       "       'Quelles seraient pour vous les solutions les plus simples et les plus supportables sur un plan financier pour vous inciter à changer vos comportements ?',\n",
       "       'Par rapport à votre mode de chauffage actuel, pensez-vous qu'il existe des solutions alternatives plus écologiques ?',\n",
       "       'Si oui, que faudrait-il faire pour vous convaincre ou vous aider à changer de mode de chauffage ?',\n",
       "       'Avez-vous pour vos déplacements quotidiens la possibilité de recourir à des solutions de mobilité alternatives à la voiture individuelle comme les transports en commun, le covoiturage, l'auto-partage, le transport à la demande, le vélo, etc. ?',\n",
       "       'Si oui, que faudrait-il faire pour vous convaincre ou vous aider à utiliser ces solutions alternatives ?',\n",
       "       'Si non, quelles sont les solutions de mobilité alternatives que vous souhaiteriez pouvoir utiliser ?',\n",
       "       'Et qui doit selon vous se charger de vous proposer ce type de solutions alternatives ?',\n",
       "       'Que pourrait faire la France pour faire partager ses choix en matière d'environnement au niveau européen et international ?',\n",
       "       'Y a-t-il d'autres points sur la transition écologique sur lesquels vous souhaiteriez vous exprimer ?'],\n",
       "      dtype='object')"
      ]
     },
     "execution_count": 2,
     "metadata": {},
     "output_type": "execute_result"
    }
   ],
   "source": [
    "df.columns"
   ]
  },
  {
   "cell_type": "markdown",
   "metadata": {
    "slideshow": {
     "slide_type": "subslide"
    }
   },
   "source": [
    "Nous nous focaliserons sur la dernière question : ``Y a-t-il d'autres points sur la transition écologique sur lesquels vous souhaiteriez vous exprimer ?`` car elle donne le plus de liberté aux personnes.\n",
    "\n",
    "Nous espérons que notre modèle LDA nous aidera à analyser les topics sur lesquels portent leurs réponses."
   ]
  },
  {
   "cell_type": "code",
   "execution_count": 3,
   "metadata": {
    "slideshow": {
     "slide_type": "-"
    }
   },
   "outputs": [
    {
     "data": {
      "text/plain": [
       "0               Multiplier les centrales géothermiques\n",
       "1    Les problèmes auxquels se trouve confronté l’e...\n",
       "2                                                  NaN\n",
       "3                                                  NaN\n",
       "4      Une vrai politique écologique et non économique\n",
       "5    Les bonnes idées ne grandissent que par le par...\n",
       "6    Pédagogie dans ce sens là dés la petite école ...\n",
       "7                                                  NaN\n",
       "8    faire de l'écologie incitative et non punitive...\n",
       "9    Développer le ferroutage pour les poids lourds...\n",
       "Name: Y a-t-il d'autres points sur la transition écologique sur lesquels vous souhaiteriez vous exprimer ?, dtype: object"
      ]
     },
     "execution_count": 3,
     "metadata": {},
     "output_type": "execute_result"
    }
   ],
   "source": [
    "question = \"Y a-t-il d'autres points sur la transition écologique sur lesquels vous souhaiteriez vous exprimer ?\"\n",
    "df[question].head(10)"
   ]
  },
  {
   "cell_type": "markdown",
   "metadata": {
    "slideshow": {
     "slide_type": "subslide"
    }
   },
   "source": [
    "### 3.2. Nettoyer et vectoriser les documents\n",
    "\n",
    "Avant d'entraîner notre modèle LDA, nous avons besoin de tokenizer notre texte. Nous allons tokenizer grâce à la librarie [spaCy](https://spacy.io/) car nous allons effectuer seulement quelques prétraitements de base. Nous allons juste initialiser un modèle vierge pour la langue française."
   ]
  },
  {
   "cell_type": "code",
   "execution_count": 4,
   "metadata": {
    "slideshow": {
     "slide_type": "-"
    }
   },
   "outputs": [],
   "source": [
    "import spacy\n",
    "\n",
    "nlp = spacy.blank(\"fr\")"
   ]
  },
  {
   "cell_type": "markdown",
   "metadata": {
    "slideshow": {
     "slide_type": "subslide"
    }
   },
   "source": [
    "Supprimons toutes les lignes du dataframe qui n'ont pas de réponse pour notre question (les `NaN`s ci-dessus). Ce nouveau dataframe s'appellera ``textes``"
   ]
  },
  {
   "cell_type": "code",
   "execution_count": 5,
   "metadata": {
    "slideshow": {
     "slide_type": "-"
    }
   },
   "outputs": [],
   "source": [
    "textes = df[df[question].notnull()][question] # A REMPLIR"
   ]
  },
  {
   "cell_type": "markdown",
   "metadata": {
    "slideshow": {
     "slide_type": "fragment"
    }
   },
   "source": [
    "Ensuite, nous utilisons spaCy pour effectuer notre premier prétraitement :"
   ]
  },
  {
   "cell_type": "code",
   "execution_count": 6,
   "metadata": {
    "slideshow": {
     "slide_type": "-"
    }
   },
   "outputs": [
    {
     "name": "stdout",
     "output_type": "stream",
     "text": [
      "CPU times: user 14.7 s, sys: 214 ms, total: 14.9 s\n",
      "Wall time: 14.9 s\n"
     ]
    }
   ],
   "source": [
    "%time spacy_docs = list(nlp.pipe(textes))"
   ]
  },
  {
   "cell_type": "markdown",
   "metadata": {
    "slideshow": {
     "slide_type": "subslide"
    }
   },
   "source": [
    "Nous avons maintenant une liste de documents spaCy. Nous allons transformer chaque document spaCy en une liste de tokens. Au lieu des tokens originaux, nous allons travailler avec les lemmes à la place. Cela permettra à notre modèle de mieux généraliser, car il pourra \"voir\" que \"géothermiques\" et \"géothermique\" représentent la même signification. Voici la liste complète des prétraitements : \n",
    " \n",
    "- supprimer tous les **mots de moins de 3 caractères**,\n",
    "- supprimer tous les **stop-words**, et\n",
    "- **lemmatiser** les mots restants et,\n",
    "- mettre ces mots en **minuscules**."
   ]
  },
  {
   "cell_type": "code",
   "execution_count": 7,
   "metadata": {
    "slideshow": {
     "slide_type": "-"
    }
   },
   "outputs": [
    {
     "name": "stdout",
     "output_type": "stream",
     "text": [
      "[['multiplier', 'centrales', 'géothermiques'], ['problèmes', 'trouve', 'confronté', 'ensemble', 'planète', 'dénoncent', 'parfait', 'désordre', 'gilets', 'jaunes', 'france', 'surpopulation', 'mondiale', 'population', 'passée', 'd’1,5', 'milliards', 'habitants', '1900', 'milliards', '2020', 'montera', 'bientôt', 'milliards', '2040', 'progrès', 'communication', 'village', 'mondial', 'individu', 'fond', 'asie', 'fond', 'afrique', 'passant', 'quartiers', 'campagnes', 'pays', 'aspire', 'vivre', 'blâmer', 'lotis', 'concitoyens', 'logement', 'nourriture', 'biens', 'consommation', 'déplacement', 'mère', 'problèmes', 'solution', 'problèmes', 'stabilisation', 'croissance', 'démographique', 'partage', 'richesses', 'partage', 'terres', 'partage', 'protection', 'biodiversité', 'règlement', 'conflits', 'lutte', 'déforestation', 'lutte', 'dérèglement', 'climatique', 'règlement', 'conflits', 'stabilisation', 'migrations', 'concurrence', 'commerciale', 'mondiale', 'etc.', 'française', 'européenne', 'mondiale', 'france', 'jouer', 'rôle', 'moteur', 'autour', 'déroulera', 'grand', 'débat', 'paraît', 'anecdotique'], ['vrai', 'politique', 'écologique', 'économique']]\n"
     ]
    }
   ],
   "source": [
    "docs = [[t.lemma_.lower() for t in doc if len(t.orth_) > 3 and not t.is_stop] for doc in spacy_docs]\n",
    "print(docs[:3])"
   ]
  },
  {
   "cell_type": "markdown",
   "metadata": {
    "slideshow": {
     "slide_type": "subslide"
    }
   },
   "source": [
    "Afin de conserver un peu les ordres des mots dans notre modélisation, nous allons tenir en compte les bigrammes fréquents. Pour cela, nous allons utiliser la bibliothèque [Gensim](https://radimrehurek.com/gensim/). Nous tenons à remarquer que la bibliothèse Gensim est une excellente bibliothèque NLP pour les topics modeling. \n",
    "\n",
    "Voici le processus retenu : \n",
    "\n",
    "- Nous identifions d'abord les bigrammes fréquents dans le corpus, \n",
    "- puis nous les ajoutons à la liste des tokens pour les documents dans lesquels ils apparaissent. Cela signifie que les bigrammes ne seront pas dans leur position correcte dans le texte, mais cela ne pose pas de soucis : les topic models sont des modèles de bag-of-words (*sac-de-mots* en français) qui ignorent la position des mots de toute façon."
   ]
  },
  {
   "cell_type": "code",
   "execution_count": 8,
   "metadata": {
    "slideshow": {
     "slide_type": "-"
    }
   },
   "outputs": [],
   "source": [
    "import re\n",
    "from gensim.models import Phrases\n",
    "\n",
    "bigram = Phrases(docs, min_count=10)\n",
    "\n",
    "for idx in range(len(docs)):\n",
    "    for token in bigram[docs[idx]]:\n",
    "        if '_' in token:  # les bigrammes peuvent être reconnus par \"_\" qui concatène les mots\n",
    "            # A REMPLIR (DEBUT)\n",
    "            docs[idx].append(token)\n",
    "            # (FIN)"
   ]
  },
  {
   "cell_type": "code",
   "execution_count": 9,
   "metadata": {
    "slideshow": {
     "slide_type": "-"
    }
   },
   "outputs": [
    {
     "data": {
      "text/plain": [
       "['vrai', 'politique', 'écologique', 'économique']"
      ]
     },
     "execution_count": 9,
     "metadata": {},
     "output_type": "execute_result"
    }
   ],
   "source": [
    "docs[2]"
   ]
  },
  {
   "cell_type": "markdown",
   "metadata": {
    "slideshow": {
     "slide_type": "subslide"
    }
   },
   "source": [
    "Passons aux dernières étapes du prétraitement spécifique à Gensim. Nous allons tout d'abord créer une représentation dictionnaire des documents. Ce dictionnaire mappera chaque mot à un identifiant unique et nous aidera à créer des représentations en sac-de-mot de chaque document. Ces représentations en sac-de-mots contiennent les identificateurs des mots du document ainsi que leur fréquence. De plus, nous pouvons supprimer les mots les moins fréquents et les plus fréquents du vocabulaire. Cela améliorera la qualité de notre modèle et accélèrera son entraînement. La fréquence minimale d'un mot est exprimée en nombre absolu, la fréquence maximale est la proportion de documents dans lesquels un mot peut figurer."
   ]
  },
  {
   "cell_type": "code",
   "execution_count": 10,
   "metadata": {
    "slideshow": {
     "slide_type": "-"
    }
   },
   "outputs": [
    {
     "name": "stdout",
     "output_type": "stream",
     "text": [
      "Number of unique words in original documents : 43652\n",
      "Number of unique words after removing rare and common words : 17759\n",
      "Example representation of document 3 : [(85, 1), (86, 1), (87, 1), (88, 1)]\n"
     ]
    }
   ],
   "source": [
    "from gensim.corpora import Dictionary\n",
    "\n",
    "dictionary = Dictionary(docs)\n",
    "print('Number of unique words in original documents :', len(dictionary))\n",
    "\n",
    "dictionary.filter_extremes(no_below=3, no_above=0.25)\n",
    "print('Number of unique words after removing rare and common words :', len(dictionary))\n",
    "\n",
    "print(\"Example representation of document 3 :\", dictionary.doc2bow(docs[2]))"
   ]
  },
  {
   "cell_type": "markdown",
   "metadata": {
    "slideshow": {
     "slide_type": "subslide"
    }
   },
   "source": [
    "Ensuite, nous créons des représentations en sac de mots pour chaque document du corpus voir la méthode [doc2bow](https://radimrehurek.com/gensim/corpora/dictionary.html) :"
   ]
  },
  {
   "cell_type": "code",
   "execution_count": 11,
   "metadata": {
    "slideshow": {
     "slide_type": "-"
    }
   },
   "outputs": [],
   "source": [
    "corpus = [ dictionary.doc2bow(doc) for doc in docs] # A REMPLIR"
   ]
  },
  {
   "cell_type": "markdown",
   "metadata": {
    "slideshow": {
     "slide_type": "subslide"
    }
   },
   "source": [
    "### 3.3. Topic Modeling avec LDA\n",
    "\n",
    "Maintenant, il est temps d'entraîner notre LDA ! Pour ce faire, nous utilisons les paramètres suivants : \n",
    "\n",
    "- **corpus** : les représentations en sac-de-mots de nos documents\n",
    "- **id2token** : le mappage des index aux mots\n",
    "- **num_topics** : le nombre de topics que le modèle doit identifier (fixons à <font color = \"red\"><b>10</b></font>)\n",
    "- **chunksize** : le nombre de documents que le modèle voit à chaque mise à jour (fixons à <font color = \"red\"><b>1 000</b></font>)\n",
    "- **passes** : le nombre de fois où nous montrons le corpus total au modèle pendant l'entraînement (fixons à <font color = \"red\"><b>5</b></font>)\n",
    "- **random_state** : nous utilisons une graine pour assurer la reproductibilité (fixons à <font color = \"red\"><b>1</b></font>)\n",
    "\n",
    "Sur un corpus de cette taille, l'entraînement dure généralement une ou deux minutes."
   ]
  },
  {
   "cell_type": "code",
   "execution_count": 12,
   "metadata": {
    "slideshow": {
     "slide_type": "-"
    }
   },
   "outputs": [
    {
     "name": "stdout",
     "output_type": "stream",
     "text": [
      "CPU times: user 37.4 s, sys: 185 ms, total: 37.5 s\n",
      "Wall time: 36.6 s\n"
     ]
    }
   ],
   "source": [
    "from gensim.models import LdaModel\n",
    "\n",
    "%time model = LdaModel(corpus=corpus, id2word=dictionary, num_topics=10, chunksize=1000, passes=5, random_state=1) # A REMPLIR"
   ]
  },
  {
   "cell_type": "markdown",
   "metadata": {
    "slideshow": {
     "slide_type": "subslide"
    }
   },
   "source": [
    "### 3.3. Résultats et visualisation\n",
    "\n",
    "Voyons ce que le modèle a appris. Pour ce faire, affichons les dix mots les plus caractéristiques pour chacun des topics. Nous obeservons déjà des tendances intéressantes : si certains topics sont plus généraux (comme le topic 3), d'autres font référence à des topics très pertinents : \n",
    "- véhicules électriques (**topic 1**), \n",
    "- énergie (alternative) (**topic 2**), \n",
    "- agriculture (**topic 6**), \n",
    "- déchets et recyclage (**topic 7**) et \n",
    "- fiscalité (**topic 9**)."
   ]
  },
  {
   "cell_type": "code",
   "execution_count": 13,
   "metadata": {
    "slideshow": {
     "slide_type": "subslide"
    }
   },
   "outputs": [
    {
     "name": "stdout",
     "output_type": "stream",
     "text": [
      "***********\n",
      "* topic 1 *\n",
      "***********\n",
      "1 : 0.052*\"produits\" + 0.021*\"agriculture\" + 0.017*\"interdire\" + 0.014*\"animaux\" + 0.012*\"pesticides\" + 0.011*\"agriculteurs\" + 0.010*\"production\" + 0.009*\"consommation\" + 0.009*\"santé\" + 0.008*\"favoriser\"\n",
      "\n",
      "***********\n",
      "* topic 2 *\n",
      "***********\n",
      "2 : 0.010*\"climatique\" + 0.007*\"problème\" + 0.007*\"planète\" + 0.006*\"population\" + 0.006*\"réchauffement\" + 0.005*\"années\" + 0.005*\"grand\" + 0.005*\"changement\" + 0.004*\"problèmes\" + 0.004*\"croissance\"\n",
      "\n",
      "***********\n",
      "* topic 3 *\n",
      "***********\n",
      "3 : 0.024*\"protection\" + 0.018*\"environnement\" + 0.017*\"pollueur\" + 0.015*\"grande_distribution\" + 0.013*\"distribution\" + 0.013*\"payeur\" + 0.011*\"arrêtons\" + 0.011*\"principe\" + 0.010*\"obsolescence\" + 0.009*\"grande\"\n",
      "\n",
      "***********\n",
      "* topic 4 *\n",
      "***********\n",
      "4 : 0.012*\"villes\" + 0.012*\"déchets\" + 0.012*\"entreprises\" + 0.011*\"grandes\" + 0.009*\"zones\" + 0.006*\"ville\" + 0.006*\"obliger\" + 0.006*\"faut\" + 0.006*\"faire\" + 0.006*\"centre\"\n",
      "\n",
      "***********\n",
      "* topic 5 *\n",
      "***********\n",
      "5 : 0.035*\"vitesse\" + 0.019*\"limitation\" + 0.017*\"routes\" + 0.015*\"sécurité\" + 0.015*\"lieu\" + 0.012*\"route\" + 0.012*\"gouvernement\" + 0.009*\"temps\" + 0.009*\"disparaissent\" + 0.008*\"politique\"\n",
      "\n",
      "***********\n",
      "* topic 6 *\n",
      "***********\n",
      "6 : 0.023*\"faut\" + 0.017*\"faire\" + 0.008*\"terme\" + 0.008*\"écologie\" + 0.008*\"monde\" + 0.008*\"pays\" + 0.007*\"france\" + 0.007*\"changer\" + 0.007*\"planète\" + 0.007*\"sommes\"\n",
      "\n",
      "***********\n",
      "* topic 7 *\n",
      "***********\n",
      "7 : 0.031*\"faire\" + 0.015*\"pollueurs\" + 0.013*\"gros\" + 0.010*\"payer\" + 0.010*\"exemple\" + 0.007*\"grands\" + 0.007*\"montrer\" + 0.006*\"grosses\" + 0.006*\"pollution\" + 0.006*\"nuit\"\n",
      "\n",
      "***********\n",
      "* topic 8 *\n",
      "***********\n",
      "8 : 0.038*\"énergie\" + 0.032*\"nucléaire\" + 0.028*\"énergies\" + 0.016*\"production\" + 0.015*\"centrales\" + 0.015*\"électricité\" + 0.014*\"renouvelables\" + 0.014*\"développer\" + 0.013*\"éoliennes\" + 0.012*\"panneaux\"\n",
      "\n",
      "***********\n",
      "* topic 9 *\n",
      "***********\n",
      "9 : 0.023*\"voiture\" + 0.019*\"véhicules\" + 0.016*\"voitures\" + 0.015*\"taxer\" + 0.014*\"électrique\" + 0.013*\"transport\" + 0.011*\"véhicule\" + 0.011*\"diesel\" + 0.010*\"taxe\" + 0.010*\"transports\"\n",
      "\n",
      "***********\n",
      "* topic 10 *\n",
      "***********\n",
      "10 : 0.047*\"transition\" + 0.044*\"écologique\" + 0.029*\"transition_écologique\" + 0.012*\"place\" + 0.012*\"entreprises\" + 0.010*\"investissement\" + 0.008*\"faut\" + 0.007*\"taxes\" + 0.007*\"mettre\" + 0.007*\"mise\"\n",
      "\n"
     ]
    }
   ],
   "source": [
    "for (topic, words) in model.print_topics():\n",
    "    print(\"***********\")\n",
    "    print(\"* topic\", topic+1, \"*\")\n",
    "    print(\"***********\")\n",
    "    print(topic+1, \":\", words)\n",
    "    print()"
   ]
  },
  {
   "cell_type": "markdown",
   "metadata": {
    "slideshow": {
     "slide_type": "subslide"
    }
   },
   "source": [
    "Une autre façon d'observer les topics est de les **visualiser**. Ceci peut être fait avec la bibliothèque [pyLDAvis](https://github.com/bmabey/pyLDAvis). PyLDAvis nous montrera à quel point les sujets sont populaires dans notre corpus, à quel point les sujets sont similaires et quels sont les mots les plus importants pour ce sujet. Notez qu'il est important de définir ``sort_topics = False`` sur l'appel à pyLDAvis. Si vous ne le faites pas, les sujets seront classés différemment de ceux de Gensim. Cela peut prendre quelques minutes pour charger."
   ]
  },
  {
   "cell_type": "code",
   "execution_count": 14,
   "metadata": {
    "slideshow": {
     "slide_type": "-"
    }
   },
   "outputs": [
    {
     "name": "stderr",
     "output_type": "stream",
     "text": [
      "/miniconda3/envs/xeus-cling2/lib/python3.7/site-packages/pyLDAvis/_prepare.py:257: FutureWarning: Sorting because non-concatenation axis is not aligned. A future version\n",
      "of pandas will change to not sort by default.\n",
      "\n",
      "To accept the future behavior, pass 'sort=False'.\n",
      "\n",
      "To retain the current behavior and silence the warning, pass 'sort=True'.\n",
      "\n",
      "  return pd.concat([default_term_info] + list(topic_dfs))\n"
     ]
    },
    {
     "data": {
      "text/html": [
       "\n",
       "<link rel=\"stylesheet\" type=\"text/css\" href=\"https://cdn.rawgit.com/bmabey/pyLDAvis/files/ldavis.v1.0.0.css\">\n",
       "\n",
       "\n",
       "<div id=\"ldavis_el84652237831841998213043\"></div>\n",
       "<script type=\"text/javascript\">\n",
       "\n",
       "var ldavis_el84652237831841998213043_data = {\"mdsDat\": {\"x\": [-0.0657136209366169, 0.02944007912721875, 0.27120626527997604, -0.10422304201059748, 0.3200399475100787, -0.0698981039573599, -0.014816454624764228, -0.13758784417061157, -0.10520348320260169, -0.12324374301472195], \"y\": [-0.21203490184201265, 0.20989413945864047, -0.1320024723984457, -0.13850403583526658, 0.015823145810193857, 0.20753412382899417, 0.14720237392126942, -0.12499550164215356, -0.05460624153919142, 0.08168937023797256], \"topics\": [1, 2, 3, 4, 5, 6, 7, 8, 9, 10], \"cluster\": [1, 1, 1, 1, 1, 1, 1, 1, 1, 1], \"Freq\": [10.444252967834473, 8.859769821166992, 2.781510829925537, 11.59956169128418, 2.664208173751831, 18.510852813720703, 6.838125228881836, 10.556173324584961, 14.064395904541016, 13.68115520477295]}, \"tinfo\": {\"Category\": [\"Default\", \"Default\", \"Default\", \"Default\", \"Default\", \"Default\", \"Default\", \"Default\", \"Default\", \"Default\", \"Default\", \"Default\", \"Default\", \"Default\", \"Default\", \"Default\", \"Default\", \"Default\", \"Default\", \"Default\", \"Default\", \"Default\", \"Default\", \"Default\", \"Default\", \"Default\", \"Default\", \"Default\", \"Default\", \"Default\", \"Topic1\", \"Topic1\", \"Topic1\", \"Topic1\", \"Topic1\", \"Topic1\", \"Topic1\", \"Topic1\", \"Topic1\", \"Topic1\", \"Topic1\", \"Topic1\", \"Topic1\", \"Topic1\", \"Topic1\", \"Topic1\", \"Topic1\", \"Topic1\", \"Topic1\", \"Topic1\", \"Topic1\", \"Topic1\", \"Topic1\", \"Topic1\", \"Topic1\", \"Topic1\", \"Topic1\", \"Topic1\", \"Topic1\", \"Topic1\", \"Topic1\", \"Topic1\", \"Topic1\", \"Topic1\", \"Topic1\", \"Topic1\", \"Topic1\", \"Topic1\", \"Topic1\", \"Topic1\", \"Topic1\", \"Topic1\", \"Topic1\", \"Topic1\", \"Topic1\", \"Topic1\", \"Topic1\", \"Topic1\", \"Topic1\", \"Topic1\", \"Topic1\", \"Topic1\", \"Topic1\", \"Topic1\", \"Topic1\", \"Topic1\", \"Topic1\", \"Topic2\", \"Topic2\", \"Topic2\", \"Topic2\", \"Topic2\", \"Topic2\", \"Topic2\", \"Topic2\", \"Topic2\", \"Topic2\", \"Topic2\", \"Topic2\", \"Topic2\", \"Topic2\", \"Topic2\", \"Topic2\", \"Topic2\", \"Topic2\", \"Topic2\", \"Topic2\", \"Topic2\", \"Topic2\", \"Topic2\", \"Topic2\", \"Topic2\", \"Topic2\", \"Topic2\", \"Topic2\", \"Topic2\", \"Topic2\", \"Topic2\", \"Topic2\", \"Topic2\", \"Topic2\", \"Topic2\", \"Topic2\", \"Topic2\", \"Topic2\", \"Topic2\", \"Topic2\", \"Topic2\", \"Topic2\", \"Topic2\", \"Topic2\", \"Topic2\", \"Topic2\", \"Topic2\", \"Topic2\", \"Topic2\", \"Topic2\", \"Topic2\", \"Topic2\", \"Topic2\", \"Topic2\", \"Topic2\", \"Topic2\", \"Topic3\", \"Topic3\", \"Topic3\", \"Topic3\", \"Topic3\", \"Topic3\", \"Topic3\", \"Topic3\", \"Topic3\", \"Topic3\", \"Topic3\", \"Topic3\", \"Topic3\", \"Topic3\", \"Topic3\", \"Topic3\", \"Topic3\", \"Topic3\", \"Topic3\", \"Topic3\", \"Topic3\", \"Topic3\", \"Topic3\", \"Topic3\", \"Topic3\", \"Topic3\", \"Topic3\", \"Topic3\", \"Topic3\", \"Topic3\", \"Topic3\", \"Topic3\", \"Topic3\", \"Topic3\", \"Topic3\", \"Topic3\", \"Topic3\", \"Topic3\", \"Topic3\", \"Topic3\", \"Topic3\", \"Topic3\", \"Topic3\", \"Topic3\", \"Topic3\", \"Topic4\", \"Topic4\", \"Topic4\", \"Topic4\", \"Topic4\", \"Topic4\", \"Topic4\", \"Topic4\", \"Topic4\", \"Topic4\", \"Topic4\", \"Topic4\", \"Topic4\", \"Topic4\", \"Topic4\", \"Topic4\", \"Topic4\", \"Topic4\", \"Topic4\", \"Topic4\", \"Topic4\", \"Topic4\", \"Topic4\", \"Topic4\", \"Topic4\", \"Topic4\", \"Topic4\", \"Topic4\", \"Topic4\", \"Topic4\", \"Topic4\", \"Topic4\", \"Topic4\", \"Topic4\", \"Topic4\", \"Topic4\", \"Topic4\", \"Topic4\", \"Topic4\", \"Topic4\", \"Topic4\", \"Topic4\", \"Topic4\", \"Topic4\", \"Topic4\", \"Topic4\", \"Topic4\", \"Topic4\", \"Topic4\", \"Topic4\", \"Topic4\", \"Topic4\", \"Topic4\", \"Topic4\", \"Topic4\", \"Topic4\", \"Topic4\", \"Topic4\", \"Topic4\", \"Topic4\", \"Topic4\", \"Topic4\", \"Topic4\", \"Topic4\", \"Topic4\", \"Topic5\", \"Topic5\", \"Topic5\", \"Topic5\", \"Topic5\", \"Topic5\", \"Topic5\", \"Topic5\", \"Topic5\", \"Topic5\", \"Topic5\", \"Topic5\", \"Topic5\", \"Topic5\", \"Topic5\", \"Topic5\", \"Topic5\", \"Topic5\", \"Topic5\", \"Topic5\", \"Topic5\", \"Topic5\", \"Topic5\", \"Topic5\", \"Topic5\", \"Topic5\", \"Topic5\", \"Topic5\", \"Topic5\", \"Topic5\", \"Topic5\", \"Topic5\", \"Topic5\", \"Topic5\", \"Topic5\", \"Topic5\", \"Topic5\", \"Topic5\", \"Topic5\", \"Topic5\", \"Topic5\", \"Topic5\", \"Topic5\", \"Topic5\", \"Topic5\", \"Topic5\", \"Topic6\", \"Topic6\", \"Topic6\", \"Topic6\", \"Topic6\", \"Topic6\", \"Topic6\", \"Topic6\", \"Topic6\", \"Topic6\", \"Topic6\", \"Topic6\", \"Topic6\", \"Topic6\", \"Topic6\", \"Topic6\", \"Topic6\", \"Topic6\", \"Topic6\", \"Topic6\", \"Topic6\", \"Topic6\", \"Topic6\", \"Topic6\", \"Topic6\", \"Topic6\", \"Topic6\", \"Topic6\", \"Topic6\", \"Topic6\", \"Topic6\", \"Topic6\", \"Topic6\", \"Topic6\", \"Topic6\", \"Topic6\", \"Topic6\", \"Topic6\", \"Topic6\", \"Topic6\", \"Topic6\", \"Topic6\", \"Topic6\", \"Topic6\", \"Topic6\", \"Topic6\", \"Topic6\", \"Topic6\", \"Topic6\", \"Topic6\", \"Topic6\", \"Topic6\", \"Topic6\", \"Topic6\", \"Topic6\", \"Topic6\", \"Topic6\", \"Topic6\", \"Topic6\", \"Topic6\", \"Topic6\", \"Topic6\", \"Topic6\", \"Topic6\", \"Topic6\", \"Topic6\", \"Topic6\", \"Topic6\", \"Topic6\", \"Topic6\", \"Topic6\", \"Topic7\", \"Topic7\", \"Topic7\", \"Topic7\", \"Topic7\", \"Topic7\", \"Topic7\", \"Topic7\", \"Topic7\", \"Topic7\", \"Topic7\", \"Topic7\", \"Topic7\", \"Topic7\", \"Topic7\", \"Topic7\", \"Topic7\", \"Topic7\", \"Topic7\", \"Topic7\", \"Topic7\", \"Topic7\", \"Topic7\", \"Topic7\", \"Topic7\", \"Topic7\", \"Topic7\", \"Topic7\", \"Topic7\", \"Topic7\", \"Topic7\", \"Topic7\", \"Topic7\", \"Topic7\", \"Topic7\", \"Topic7\", \"Topic7\", \"Topic7\", \"Topic7\", \"Topic7\", \"Topic7\", \"Topic7\", \"Topic7\", \"Topic7\", \"Topic7\", \"Topic7\", \"Topic7\", \"Topic7\", \"Topic7\", \"Topic7\", \"Topic7\", \"Topic7\", \"Topic7\", \"Topic7\", \"Topic7\", \"Topic7\", \"Topic7\", \"Topic7\", \"Topic7\", \"Topic8\", \"Topic8\", \"Topic8\", \"Topic8\", \"Topic8\", \"Topic8\", \"Topic8\", \"Topic8\", \"Topic8\", \"Topic8\", \"Topic8\", \"Topic8\", \"Topic8\", \"Topic8\", \"Topic8\", \"Topic8\", \"Topic8\", \"Topic8\", \"Topic8\", \"Topic8\", \"Topic8\", \"Topic8\", \"Topic8\", \"Topic8\", \"Topic8\", \"Topic8\", \"Topic8\", \"Topic8\", \"Topic8\", \"Topic8\", \"Topic8\", \"Topic8\", \"Topic8\", \"Topic8\", \"Topic8\", \"Topic8\", \"Topic8\", \"Topic8\", \"Topic8\", \"Topic8\", \"Topic8\", \"Topic8\", \"Topic8\", \"Topic8\", \"Topic9\", \"Topic9\", \"Topic9\", \"Topic9\", \"Topic9\", \"Topic9\", \"Topic9\", \"Topic9\", \"Topic9\", \"Topic9\", \"Topic9\", \"Topic9\", \"Topic9\", \"Topic9\", \"Topic9\", \"Topic9\", \"Topic9\", \"Topic9\", \"Topic9\", \"Topic9\", \"Topic9\", \"Topic9\", \"Topic9\", \"Topic9\", \"Topic9\", \"Topic9\", \"Topic9\", \"Topic9\", \"Topic9\", \"Topic9\", \"Topic9\", \"Topic9\", \"Topic9\", \"Topic9\", \"Topic9\", \"Topic9\", \"Topic9\", \"Topic9\", \"Topic9\", \"Topic9\", \"Topic9\", \"Topic9\", \"Topic9\", \"Topic9\", \"Topic9\", \"Topic9\", \"Topic9\", \"Topic9\", \"Topic9\", \"Topic9\", \"Topic9\", \"Topic9\", \"Topic9\", \"Topic9\", \"Topic10\", \"Topic10\", \"Topic10\", \"Topic10\", \"Topic10\", \"Topic10\", \"Topic10\", \"Topic10\", \"Topic10\", \"Topic10\", \"Topic10\", \"Topic10\", \"Topic10\", \"Topic10\", \"Topic10\", \"Topic10\", \"Topic10\", \"Topic10\", \"Topic10\", \"Topic10\", \"Topic10\", \"Topic10\", \"Topic10\", \"Topic10\", \"Topic10\", \"Topic10\", \"Topic10\", \"Topic10\", \"Topic10\", \"Topic10\", \"Topic10\", \"Topic10\", \"Topic10\", \"Topic10\", \"Topic10\", \"Topic10\", \"Topic10\", \"Topic10\", \"Topic10\", \"Topic10\", \"Topic10\", \"Topic10\", \"Topic10\", \"Topic10\", \"Topic10\", \"Topic10\", \"Topic10\", \"Topic10\", \"Topic10\", \"Topic10\", \"Topic10\", \"Topic10\", \"Topic10\", \"Topic10\", \"Topic10\", \"Topic10\", \"Topic10\", \"Topic10\", \"Topic10\", \"Topic10\", \"Topic10\", \"Topic10\", \"Topic10\", \"Topic10\", \"Topic10\", \"Topic10\", \"Topic10\", \"Topic10\"], \"Freq\": [4849.0, 4038.0, 5507.0, 3020.0, 2981.0, 2485.0, 2236.0, 2450.0, 2001.0, 6121.0, 1602.0, 1740.0, 2150.0, 2109.0, 2256.0, 1724.0, 2470.0, 1205.0, 1299.0, 687.0, 1100.0, 1093.0, 1556.0, 1190.0, 1066.0, 994.0, 970.0, 1113.0, 963.0, 690.0, 1601.1595458984375, 1099.5863037109375, 969.80419921875, 385.3818664550781, 373.8001403808594, 346.6376953125, 344.47430419921875, 338.9214782714844, 332.0245666503906, 284.8445129394531, 565.460693359375, 4022.376953125, 234.9131317138672, 232.92428588867188, 231.42877197265625, 226.52723693847656, 197.65280151367188, 192.82923889160156, 192.4051971435547, 192.0318145751953, 189.0391387939453, 172.21849060058594, 171.52528381347656, 168.671875, 165.2412109375, 163.59603881835938, 162.82415771484375, 161.09288024902344, 159.06097412109375, 153.99081420898438, 822.2401733398438, 214.14154052734375, 417.8959045410156, 330.3631896972656, 175.20135498046875, 1337.28759765625, 382.58355712890625, 350.78857421875, 226.92190551757812, 374.6499328613281, 514.1292114257812, 567.24609375, 668.1915893554688, 234.81861877441406, 290.7298583984375, 321.646728515625, 649.8570556640625, 398.3472595214844, 787.3631591796875, 687.86962890625, 339.23236083984375, 458.28729248046875, 583.7994384765625, 394.1574401855469, 407.0845642089844, 368.97137451171875, 382.4413757324219, 684.9437255859375, 396.83154296875, 254.9175262451172, 247.17556762695312, 244.10777282714844, 234.86338806152344, 229.47129821777344, 193.56552124023438, 191.0434112548828, 181.49620056152344, 178.2562255859375, 169.51071166992188, 166.87466430664062, 166.02867126464844, 164.0145721435547, 160.94056701660156, 160.0978240966797, 158.6707305908203, 157.59976196289062, 156.0442657470703, 152.34117126464844, 146.4930877685547, 131.76852416992188, 131.70010375976562, 129.04580688476562, 128.48435974121094, 128.07704162597656, 127.5899658203125, 126.1737060546875, 125.2099838256836, 137.21636962890625, 265.9102478027344, 151.5548095703125, 283.4632568359375, 226.48941040039062, 414.1676940917969, 242.56332397460938, 270.5268249511719, 347.3031311035156, 229.92269897460938, 450.9869384765625, 333.6409606933594, 295.5575256347656, 446.8040771484375, 305.0394592285156, 289.9288330078125, 222.22213745117188, 213.91839599609375, 227.0325469970703, 255.385498046875, 249.8070526123047, 258.5000915527344, 217.81610107421875, 279.7763977050781, 289.208984375, 236.6767120361328, 342.8762512207031, 306.3310546875, 271.94976806640625, 199.86956787109375, 196.088134765625, 195.20199584960938, 189.90005493164062, 161.80398559570312, 154.44676208496094, 134.74691772460938, 132.09373474121094, 130.2501220703125, 129.53292846679688, 117.905029296875, 116.23594665527344, 113.77462768554688, 104.44558715820312, 103.30675506591797, 103.19337463378906, 100.60099792480469, 99.74593353271484, 98.47303771972656, 95.56134033203125, 94.50658416748047, 94.508544921875, 94.44406127929688, 92.2048110961914, 91.42129516601562, 88.25837707519531, 86.26256561279297, 135.029052734375, 231.9496612548828, 491.68096923828125, 167.02166748046875, 274.938232421875, 191.79763793945312, 225.997802734375, 126.04872131347656, 368.3835754394531, 163.802490234375, 117.50289154052734, 154.89772033691406, 196.83126831054688, 123.36920166015625, 127.72358703613281, 957.5909423828125, 1063.7901611328125, 283.736328125, 275.7406005859375, 268.1912841796875, 252.529541015625, 227.29727172851562, 218.07215881347656, 216.9161834716797, 205.37049865722656, 210.26011657714844, 190.2325439453125, 188.94900512695312, 183.6003875732422, 181.3542938232422, 171.49041748046875, 170.24392700195312, 158.08177185058594, 155.26242065429688, 253.7296142578125, 150.4676971435547, 164.74911499023438, 164.39114379882812, 143.0387420654297, 142.6624755859375, 138.03030395507812, 131.52069091796875, 127.1035385131836, 126.11845397949219, 125.11759948730469, 294.4164123535156, 754.3739013671875, 487.99139404296875, 418.2627868652344, 557.5128784179688, 273.9258728027344, 207.26341247558594, 302.835693359375, 206.9925537109375, 501.44488525390625, 1025.5240478515625, 308.4638366699219, 466.1460266113281, 289.52105712890625, 486.7734069824219, 356.43414306640625, 999.290771484375, 482.63031005859375, 426.04278564453125, 347.84716796875, 312.21173095703125, 476.6426696777344, 465.9490966796875, 368.1807861328125, 312.4720458984375, 472.5204162597656, 416.0248718261719, 432.13043212890625, 405.7007141113281, 494.34906005859375, 489.7162780761719, 400.1974182128906, 337.0664978027344, 334.9465637207031, 325.3091735839844, 686.8882446289062, 384.28485107421875, 183.5191650390625, 162.85342407226562, 147.03268432617188, 140.9432830810547, 134.23269653320312, 131.3427276611328, 128.84124755859375, 124.51851654052734, 118.89390563964844, 117.54792022705078, 112.80179595947266, 111.32707214355469, 111.11550903320312, 109.36261749267578, 105.6136703491211, 102.81282806396484, 102.39498138427734, 97.31303405761719, 94.39110565185547, 91.22573852539062, 88.98776245117188, 88.96183776855469, 86.93571472167969, 84.3642349243164, 83.77882385253906, 82.3887939453125, 80.74420166015625, 79.11138153076172, 80.52936553955078, 300.444091796875, 243.2145538330078, 344.76873779296875, 291.3343811035156, 241.54714965820312, 152.5035400390625, 129.05865478515625, 161.05984497070312, 119.2426528930664, 188.61546325683594, 129.196533203125, 164.41879272460938, 119.4604721069336, 115.2564926147461, 116.24239349365234, 397.59716796875, 360.0533752441406, 322.26763916015625, 283.36529541015625, 273.31829833984375, 259.9405822753906, 252.11575317382812, 246.19615173339844, 237.610107421875, 229.16322326660156, 224.37367248535156, 198.30006408691406, 191.13690185546875, 182.2607421875, 180.2819061279297, 175.6396942138672, 171.93360900878906, 164.29617309570312, 159.123779296875, 155.53216552734375, 152.64666748046875, 151.68756103515625, 151.2178497314453, 149.07594299316406, 133.37249755859375, 133.27822875976562, 131.5447540283203, 124.46141815185547, 117.14384460449219, 116.36225891113281, 952.695556640625, 327.12994384765625, 208.67051696777344, 357.8341369628906, 555.8344116210938, 566.8167724609375, 331.47540283203125, 1141.158203125, 365.4519958496094, 360.2001953125, 517.8114013671875, 576.1918334960938, 807.8097534179688, 609.2130737304688, 562.0123901367188, 378.97491455078125, 698.3837280273438, 1129.695068359375, 871.398193359375, 3179.24169921875, 1058.7772216796875, 965.559326171875, 631.4808349609375, 1007.289306640625, 823.0704956054688, 2336.190185546875, 645.188232421875, 790.0267333984375, 1053.4195556640625, 899.6715087890625, 768.9050903320312, 689.8194580078125, 505.0889587402344, 1034.2008056640625, 511.29290771484375, 665.6229248046875, 624.3857421875, 913.8214721679688, 693.5447387695312, 636.910888671875, 623.8759155273438, 290.9137878417969, 256.7991027832031, 175.08372497558594, 165.46461486816406, 150.7745361328125, 150.09988403320312, 141.92933654785156, 139.87364196777344, 130.3158416748047, 128.5494384765625, 128.48544311523438, 126.87002563476562, 124.69599151611328, 112.90094757080078, 111.3294906616211, 109.20429229736328, 110.1446533203125, 106.115478515625, 105.51532745361328, 104.28501892089844, 101.40499877929688, 96.8694839477539, 94.94429779052734, 94.60138702392578, 93.94134521484375, 92.19036102294922, 91.72654724121094, 89.56180572509766, 89.34288024902344, 88.61927032470703, 135.6498565673828, 328.4590759277344, 785.1065673828125, 193.50225830078125, 236.41226196289062, 648.4382934570312, 230.07354736328125, 333.70684814453125, 181.35118103027344, 533.8687133789062, 320.117919921875, 196.51226806640625, 197.45066833496094, 377.9827575683594, 1566.547607421875, 204.01266479492188, 523.8706665039062, 186.04490661621094, 218.00698852539062, 325.7804260253906, 303.20458984375, 217.7230682373047, 250.54400634765625, 245.7761993408203, 162.09707641601562, 225.68939208984375, 177.33587646484375, 180.13519287109375, 180.2992401123047, 3019.09716796875, 2484.348388671875, 2235.145263671875, 1204.181640625, 1092.2550048828125, 993.7293090820312, 927.9987182617188, 816.7672729492188, 764.3232421875, 751.1854248046875, 733.8614501953125, 682.5126342773438, 551.9483032226562, 504.6422424316406, 395.56475830078125, 393.1192626953125, 347.7845153808594, 330.66162109375, 307.633056640625, 306.9718017578125, 312.9832458496094, 272.4185485839844, 230.52272033691406, 210.6566619873047, 207.08331298828125, 206.74961853027344, 183.7637939453125, 178.6112518310547, 176.64312744140625, 167.6553192138672, 1191.27392578125, 553.4596557617188, 1263.9991455078125, 653.9439697265625, 563.2747802734375, 1076.021728515625, 561.9849853515625, 528.3128051757812, 729.9456176757812, 589.9459228515625, 509.72125244140625, 429.75811767578125, 556.1885986328125, 386.7694396972656, 2000.0926513671875, 1189.0625, 1112.923095703125, 670.0115966796875, 604.3316650390625, 556.2484741210938, 527.1776733398438, 515.60693359375, 523.0792846679688, 520.69677734375, 396.4127197265625, 391.8020324707031, 390.9997253417969, 369.2533264160156, 355.6711730957031, 340.302978515625, 334.91729736328125, 298.5924377441406, 278.9654846191406, 256.1980895996094, 238.2981719970703, 237.5431365966797, 237.2564239501953, 224.6538543701172, 197.7488250732422, 186.62416076660156, 176.2469024658203, 174.92868041992188, 171.6826171875, 162.08779907226562, 823.86376953125, 2394.48779296875, 202.2515106201172, 330.188720703125, 1650.847900390625, 409.199462890625, 1404.902587890625, 787.6813354492188, 996.5242919921875, 628.62890625, 1518.438720703125, 1551.474609375, 505.95751953125, 675.36572265625, 1003.2875366210938, 1018.3983764648438, 585.1929931640625, 791.7345581054688, 942.6636962890625, 764.9791259765625, 522.34912109375, 431.9942932128906, 592.0935668945312, 445.1443176269531, 2980.58203125, 377.86004638671875, 333.3119812011719, 259.27655029296875, 233.82791137695312, 204.1381072998047, 198.13980102539062, 197.07484436035156, 170.9576873779297, 153.78338623046875, 146.9812774658203, 142.5052947998047, 138.74447631835938, 133.88246154785156, 132.9918975830078, 130.44049072265625, 129.3575439453125, 128.1802215576172, 127.9530258178711, 125.73165130615234, 125.37310791015625, 121.69888305664062, 119.47045135498047, 116.05919647216797, 115.69271087646484, 110.70418548583984, 108.15975952148438, 106.14482116699219, 105.66915893554688, 102.76835632324219, 4793.5986328125, 577.5023193359375, 379.5531311035156, 437.8162841796875, 140.17678833007812, 4449.453125, 985.1759643554688, 671.5184326171875, 563.4285888671875, 192.15261840820312, 1274.4542236328125, 368.0513000488281, 449.212890625, 256.66448974609375, 212.12152099609375, 761.2568359375, 457.0741271972656, 1265.8067626953125, 292.5152893066406, 364.19903564453125, 253.4969940185547, 492.3454895019531, 339.8336486816406, 621.6780395507812, 729.3270263671875, 617.64111328125, 493.7897644042969, 353.0560607910156, 621.91650390625, 405.69427490234375, 457.9981384277344, 809.1705322265625, 401.6109619140625, 420.46771240234375, 657.4169311523438, 402.02423095703125, 385.556640625, 383.04132080078125], \"Term\": [\"transition\", \"produits\", \"\\u00e9cologique\", \"\\u00e9nergie\", \"transition_\\u00e9cologique\", \"nucl\\u00e9aire\", \"\\u00e9nergies\", \"voiture\", \"v\\u00e9hicules\", \"faire\", \"agriculture\", \"voitures\", \"production\", \"\\u00e9lectrique\", \"environnement\", \"interdire\", \"entreprises\", \"centrales\", \"\\u00e9lectricit\\u00e9\", \"vitesse\", \"animaux\", \"renouvelables\", \"transport\", \"v\\u00e9hicule\", \"villes\", \"\\u00e9oliennes\", \"pesticides\", \"diesel\", \"gouvernement\", \"protection\", \"agriculture\", \"animaux\", \"pesticides\", \"\\u00e9levage\", \"chimiques\", \"circuits\", \"animale\", \"courts\", \"alimentaires\", \"biologique\", \"glyphosate\", \"produits\", \"cultures\", \"circuits_courts\", \"import\\u00e9s\", \"dommages\", \"agriculture_biologique\", \"animal\", \"huile\", \"importation\", \"nocifs\", \"produits_issus\", \"raisonn\\u00e9e\", \"respectueuses\", \"circuit\", \"palme\", \"produits_chimiques\", \"huile_palme\", \"principe_pollueur\", \"animales\", \"agriculteurs\", \"fruits\", \"agricole\", \"emballage\", \"l\\u00e9gumes\", \"interdire\", \"esp\\u00e8ces\", \"producteurs\", \"issus\", \"alimentation\", \"interdiction\", \"biodiversit\\u00e9\", \"sant\\u00e9\", \"alimentaire\", \"sols\", \"pratiques\", \"favoriser\", \"chasse\", \"production\", \"consommation\", \"agricoles\", \"utilisation\", \"environnement\", \"produit\", \"aider\", \"emballages\", \"taxer\", \"climatique\", \"r\\u00e9chauffement\", \"r\\u00e9chauffement_climatique\", \"partage\", \"sauver\", \"nicolas\", \"nicolas_hulot\", \"inscrire\", \"minutes\", \"confort\", \"conducteurs\", \"tax\\u00e9es\", \"valider\", \"scientifique\", \"s\\u00e9cheresse\", \"crise\", \"\\n     \", \"aller_travail\", \"r\\u00e9parateurs\", \"d\\u00e9sordre\", \"surpopulation\", \"changement_climatique\", \"applique\", \"apprendre\", \"jaunes\", \"sauver_plan\\u00e8te\", \"gilets\", \"d\\u00e9mographique\", \"style\", \"atteint\", \"consommation_\\u00e9nergie\", \"hulot\", \"causes\", \"attention\", \"heure\", \"population\", \"\\u00e9cole\", \"milliards\", \"ann\\u00e9es\", \"risques\", \"probl\\u00e8me\", \"grand\", \"probl\\u00e8mes\", \"plan\\u00e8te\", \"changement\", \"croissance\", \"mondiale\", \"dur\\u00e9e\", \"augmentation\", \"terre\", \"impact\", \"enfants\", \"cause\", \"pollution\", \"faire\", \"politique\", \"pollueur\", \"grande_distribution\", \"payeur\", \"obsolescence\", \"oeuvre\", \"protection_environnement\", \"programm\\u00e9e\", \"faune\", \"retarder\", \"pile_combustible\", \"d\\u00e9pendance\", \"obsolescence_programm\\u00e9e\", \"fen\\u00eatre\", \"civilisation\", \"faire_sorte\", \"scolaires\", \"sanction\", \"camion\", \"utopique\", \"pollueur_payeur\", \"r\\u00e9union\", \"d\\u00e9passement\", \"illusoire\", \"repas\", \"respirer\", \"urgent_agir\", \"interm\\u00e9diaires\", \"excellent\", \"flore\", \"privil\\u00e9gie\", \"niveau_europ\\u00e9en\", \"arr\\u00eatons\", \"protection\", \"sorte\", \"distribution\", \"urgent\", \"principe\", \"pile\", \"environnement\", \"europ\\u00e9en\", \"aliments\", \"promouvoir\", \"grande\", \"cantines\", \"agir\", \"grandes\", \"villes\", \"consigne\", \"espaces\", \"centres\", \"commerces\", \"commerciales\", \"bouteilles\", \"mentalit\\u00e9s\", \"m\\u00e9thode\", \"ordures\", \"urbain\", \"b\\u00e9tonner\", \"monde_agricole\", \"intensive\", \"rurales\", \"d\\u00e9truisent\", \"grandes_villes\", \"grandes_surfaces\", \"verre\", \"grandes_entreprises\", \"m\\u00e9nag\\u00e8res\", \"ordures_m\\u00e9nag\\u00e8res\", \"immeubles\", \"r\\u00e9cup\\u00e9ration\", \"zones_rurales\", \"recycl\\u00e9\", \"visuelle\", \"\\u00e9viterait\", \"entreprises_polluantes\", \"surfaces\", \"zones\", \"centre\", \"proposition\", \"ville\", \"campagnes\", \"arbres\", \"communes\", \"services_publics\", \"obliger\", \"d\\u00e9chets\", \"petites\", \"plastique\", \"partout\", \"publics\", \"services\", \"entreprises\", \"emballages\", \"construction\", \"logements\", \"plastiques\", \"limiter\", \"cr\\u00e9er\", \"inciter\", \"devraient\", \"mettre\", \"transports\", \"exemple\", \"arr\\u00eater\", \"faut\", \"faire\", \"d\\u00e9velopper\", \"r\\u00e9duire\", \"favoriser\", \"faudrait\", \"vitesse\", \"limitation\", \"disparaissent\", \"radars\", \"routi\\u00e8re\", \"responsabiliser\", \"adopter\", \"d\\u00e9lais\", \"accidents\", \"traiter\", \"exp\\u00e9rimentation\", \"insiste\", \"mutation\", \"facteur\", \"courant\", \"lendemain\", \"investir_massivement\", \"nucleaire\", \"instant\", \"inutilement\", \"concertation\", \"aille\", \"impact_\\u00e9cologique\", \"particules_fines\", \"annon\\u00e7ant\", \"compteur\", \"essais\", \"conditions_circulation\", \"veiller\", \"entretenant\", \"secondaire\", \"s\\u00e9curit\\u00e9\", \"route\", \"routes\", \"lieu\", \"gouvernement\", \"circulation\", \"entretien\", \"mesure\", \"avis\", \"temps\", \"revenir\", \"politique\", \"r\\u00e9sultats\", \"rouler\", \"conditions\", \"long_terme\", \"conscience\", \"questions\", \"courage\", \"court_terme\", \"face\", \"tard\", \"catastrophe\", \"nette\", \"scientifiques\", \"fasse\", \"\\u00e9tats\", \"enjeux\", \"vision\", \"pouvons\", \"niveau_mondial\", \"majorit\\u00e9_fran\\u00e7ais\", \"d\\u00e9cemment\", \"peuple\", \"int\\u00e9r\\u00eats_\\u00e9conomiques\", \"futures\", \"r\\u00e9ponse\", \"condamne\", \"fa\\u00eetes\", \"arr\\u00eat\\u00e9\", \"\\u00e9volution\", \"groupe\", \"employ\\u00e9s\", \"prendre_conscience\", \"dispose\", \"sommes\", \"d\\u00e9cisions\", \"questionnaire\", \"\\u00e9conomiques\", \"long\", \"vivre\", \"mondial\", \"terme\", \"penser\", \"volont\\u00e9\", \"soci\\u00e9t\\u00e9\", \"politiques\", \"\\u00e9conomique\", \"sujet\", \"question\", \"urgence\", \"mod\\u00e8le\", \"\\u00e9cologie\", \"prendre\", \"faut\", \"monde\", \"plan\\u00e8te\", \"sens\", \"changer\", \"pouvoir\", \"faire\", \"gouvernement\", \"voir\", \"pays\", \"temps\", \"politique\", \"\\u00e9conomie\", \"choix\", \"france\", \"compte\", \"citoyens\", \"niveau\", \"\\u00e9cologique\", \"environnement\", \"fran\\u00e7ais\", \"exemple\", \"gros_pollueurs\", \"changer_v\\u00e9hicule\", \"changer_mentalit\\u00e9s\", \"d\\u00e9mographie\", \"payeurs\", \"chasseurs\", \"urbanisation\", \"publicitaires\", \"grands_groupes\", \"\\u00e9teindre\", \"scandaleux\", \"amende\", \"pollueurs_payeurs\", \"commer\\u00e7ants\", \".......\", \"focaliser\", \"mauvaise\", \"r\\u00e9pondent\", \"choisit\", \"impos\\u00e9es\", \"ministres\", \"rapporter\", \"souffrent\", \"jet\\u00e9\", \"b\\u00eate\", \"feux\", \"forcement\", \"change\", \"morts\", \"\\u00e9clairages\", \"grosses_entreprises\", \"grosses\", \"pollueurs\", \"montrer_exemple\", \"faire_payer\", \"gros\", \"pourront\", \"montrer\", \"aidant\", \"payer\", \"nuit\", \"groupes\", \"permis\", \"grands\", \"faire\", \"petit\", \"exemple\", \"financi\\u00e8rement\", \"chasse\", \"pollution\", \"fran\\u00e7ais\", \"....\", \"citoyens\", \"pays\", \"effort\", \"france\", \"industriels\", \"entreprises\", \"faut\", \"\\u00e9nergie\", \"nucl\\u00e9aire\", \"\\u00e9nergies\", \"centrales\", \"renouvelables\", \"\\u00e9oliennes\", \"panneaux\", \"solaire\", \"\\u00e9olien\", \"nucl\\u00e9aires\", \"fossiles\", \"\\u00e9nergies_renouvelables\", \"solaires\", \"\\u00e9nergies_fossiles\", \"centrales_nucl\\u00e9aires\", \"stockage\", \"photovolta\\u00efque\", \"panneaux_solaires\", \"charbon\", \"\\u00e9olienne\", \"energie\", \"renouvelable\", \"chaleur\", \"\\u00e9nergie_nucl\\u00e9aire\", \"combustibles\", \"hydraulique\", \"photovolta\\u00efques\", \"vent\", \"piles\", \"production_\\u00e9lectricit\\u00e9\", \"\\u00e9lectricit\\u00e9\", \"p\\u00e9trole\", \"production\", \"recherche\", \"hydrog\\u00e8ne\", \"d\\u00e9velopper\", \"\\u00e9nerg\\u00e9tique\", \"d\\u00e9veloppement\", \"france\", \"\\u00e9lectrique\", \"d\\u00e9chets\", \"solutions\", \"faut\", \"chauffage\", \"v\\u00e9hicules\", \"v\\u00e9hicule\", \"diesel\", \"essence\", \"carburant\", \"avions\", \"constructeurs\", \"prime\", \"lourds\", \"automobile\", \"bateaux\", \"moteurs\", \"voitures_\\u00e9lectriques\", \"avion\", \"k\\u00e9ros\\u00e8ne\", \"poids_lourds\", \"automobiles\", \"hybrides\", \"ferroviaire\", \"bornes\", \"constructeurs_automobiles\", \"routier\", \"fret\", \"rail\", \"electrique\", \"hybride\", \"trains\", \"voitures_hybrides\", \"faibles_revenus\", \"recharge\", \"voiture_\\u00e9lectrique\", \"voiture\", \"a\\u00e9rien\", \"v\\u00e9hicules_\\u00e9lectriques\", \"voitures\", \"ferroutage\", \"transport\", \"camions\", \"\\u00e9lectriques\", \"poids\", \"\\u00e9lectrique\", \"taxer\", \"carburants\", \"batteries\", \"transports\", \"taxe\", \"achat\", \"prix\", \"pollution\", \"france\", \"solution\", \"polluent\", \"faire\", \"d\\u00e9velopper\", \"transition_\\u00e9cologique\", \"marge\", \"fiscalit\\u00e9\", \"banques\", \"d\\u00e9penses_publiques\", \"reparation\", \"eolien\", \"traitement_d\\u00e9chets\", \"t\\u00e9l\\u00e9travail\", \"existait\", \"ecologique\", \"respecte\", \"d\\u00e9marche\", \"apporter\", \"imposant\", \"vertueuse\", \"traverser\", \"science\", \"financement_transition\", \"aberrant\", \"couts\", \"financer_transition\", \"r\\u00e9ductions\", \"pouvoirs\", \"courants\", \"client\", \"compl\\u00e8te\", \"fiscales\", \"donn\\u00e9e\", \"aspects\", \"transition\", \"d\\u00e9penses\", \"mise_place\", \"financement\", \"classes\", \"\\u00e9cologique\", \"investissement\", \"mise\", \"imp\\u00f4t\", \"b\\u00e9n\\u00e9fices\", \"place\", \"investissements\", \"financer\", \"imp\\u00f4ts\", \"financi\\u00e8re\", \"taxes\", \"mettre_place\", \"entreprises\", \"d\\u00e9pense\", \"national\", \"budget\", \"aides\", \"entreprise\", \"solutions\", \"mettre\", \"\\u00e9tat\", \"etat\", \"publiques\", \"taxe\", \"plan\", \"co\\u00fbt\", \"faut\", \"\\u00e9nerg\\u00e9tique\", \"aider\", \"faire\", \"moyens\", \"\\u00e9conomie\", \"citoyens\"], \"Total\": [4849.0, 4038.0, 5507.0, 3020.0, 2981.0, 2485.0, 2236.0, 2450.0, 2001.0, 6121.0, 1602.0, 1740.0, 2150.0, 2109.0, 2256.0, 1724.0, 2470.0, 1205.0, 1299.0, 687.0, 1100.0, 1093.0, 1556.0, 1190.0, 1066.0, 994.0, 970.0, 1113.0, 963.0, 690.0, 1602.1214599609375, 1100.5479736328125, 970.9208374023438, 386.3424987792969, 374.7608947753906, 347.598388671875, 345.43505859375, 339.8822326660156, 332.9855651855469, 285.8051452636719, 567.4755249023438, 4038.082763671875, 235.8738555908203, 233.88499450683594, 232.38949584960938, 227.49624633789062, 198.61349487304688, 193.78993225097656, 193.3661346435547, 192.99252319335938, 189.99986267089844, 173.17935180664062, 172.48597717285156, 169.6326446533203, 166.20205688476562, 164.5567626953125, 163.7848663330078, 162.0535888671875, 160.02207946777344, 154.95156860351562, 828.6924438476562, 216.199462890625, 432.6767883300781, 352.1805725097656, 177.49737548828125, 1724.3258056640625, 427.5780944824219, 389.7180480957031, 238.1658935546875, 433.83782958984375, 667.5355224609375, 816.7578735351562, 1118.112548828125, 256.5411071777344, 357.06072998046875, 425.9181823730469, 1389.461181640625, 617.2031860351562, 2150.072021484375, 1909.05859375, 519.0330810546875, 1063.25439453125, 2256.15966796875, 812.5042114257812, 1132.8232421875, 853.658447265625, 2334.228271484375, 685.901611328125, 397.7893981933594, 255.8754119873047, 248.13482666015625, 245.0657196044922, 235.82138061523438, 230.42929077148438, 194.5238037109375, 192.0017852783203, 182.45413208007812, 179.21473693847656, 170.4712677001953, 167.8336944580078, 166.9866180419922, 164.97348022460938, 161.89932250976562, 161.0570831298828, 159.63320922851562, 158.55880737304688, 157.00384521484375, 153.299072265625, 147.45098876953125, 132.72682189941406, 132.65811157226562, 130.0037078857422, 129.44224548339844, 129.03494262695312, 128.54815673828125, 127.13227081298828, 126.16824340820312, 138.80360412597656, 290.4836730957031, 155.9136505126953, 345.0740661621094, 287.5432434082031, 679.7918090820312, 318.8843994140625, 378.5522766113281, 570.8052368164062, 308.15838623046875, 981.8748779296875, 750.661376953125, 600.796142578125, 1458.8323974609375, 657.8494873046875, 668.4301147460938, 354.29925537109375, 332.1253356933594, 399.88995361328125, 658.0706787109375, 672.5655517578125, 845.6119995117188, 423.3888854980469, 2185.76416015625, 6121.79248046875, 1508.0531005859375, 343.8355407714844, 307.2900390625, 272.90924072265625, 200.82858276367188, 197.05020141601562, 196.16085815429688, 190.85891723632812, 162.7650604248047, 155.41078186035156, 135.70587158203125, 133.0529022216797, 131.20896911621094, 130.49227905273438, 118.86437225341797, 117.19482421875, 114.73351287841797, 105.4046859741211, 104.2657241821289, 104.15274810791016, 101.55982971191406, 100.70518493652344, 99.43215942382812, 96.52082824707031, 95.46544647216797, 95.46774291992188, 95.40296936035156, 93.16433715820312, 92.38056182861328, 89.21721649169922, 87.22168731689453, 137.07237243652344, 237.9394989013672, 690.4093627929688, 193.91598510742188, 488.5211486816406, 283.7080993652344, 560.8897705078125, 175.60348510742188, 2256.15966796875, 344.07135009765625, 154.88552856445312, 365.44122314453125, 823.0123291015625, 202.8473358154297, 521.6754760742188, 959.4481201171875, 1066.9715576171875, 284.68646240234375, 276.6897277832031, 269.14031982421875, 253.47906494140625, 228.24720764160156, 219.02122497558594, 217.86891174316406, 206.3216094970703, 211.2680206298828, 191.1826934814453, 189.89877319335938, 184.5507049560547, 182.3034210205078, 172.43966674804688, 171.19361877441406, 159.0308380126953, 156.21347045898438, 255.3003387451172, 151.416748046875, 165.8010711669922, 165.443359375, 143.98779296875, 143.6116180419922, 138.9796905517578, 132.469970703125, 128.05282592773438, 127.06768035888672, 126.06666564941406, 299.752197265625, 814.2554321289062, 535.9251708984375, 478.1558837890625, 663.0592651367188, 301.1471252441406, 222.1605682373047, 357.1037292480469, 225.7202606201172, 709.562255859375, 1830.7332763671875, 379.3669738769531, 662.620849609375, 355.27984619140625, 740.83251953125, 485.43304443359375, 2470.49755859375, 853.658447265625, 713.10205078125, 517.7677001953125, 435.8730773925781, 1036.3768310546875, 1003.9072265625, 805.7405395507812, 576.1773071289062, 1960.9754638671875, 1617.224365234375, 2428.078369140625, 1922.4757080078125, 6077.89453125, 6121.79248046875, 2303.366455078125, 1174.5001220703125, 1389.461181640625, 1241.659423828125, 687.8400268554688, 385.2367248535156, 184.4717254638672, 163.8052215576172, 147.98451232910156, 141.8954620361328, 135.18502807617188, 132.2949676513672, 129.7932891845703, 125.47039794921875, 119.84584045410156, 118.50000762939453, 113.75397491455078, 112.27957153320312, 112.067626953125, 110.31471252441406, 106.565673828125, 103.76493072509766, 103.34701538085938, 98.26497650146484, 95.3429946899414, 92.17784881591797, 89.93984985351562, 89.91375732421875, 87.88890838623047, 85.31605529785156, 84.73275756835938, 83.34304809570312, 81.6960678100586, 80.0676498413086, 81.57862091064453, 405.5975646972656, 322.856689453125, 747.5000610351562, 822.9398193359375, 963.0909423828125, 351.16595458984375, 240.71347045898438, 452.1752014160156, 251.87698364257812, 1714.282470703125, 394.7735900878906, 1508.0531005859375, 315.7857971191406, 244.29034423828125, 356.9251708984375, 398.55621337890625, 361.01226806640625, 323.2265625, 284.3241882324219, 274.2773742675781, 260.89947509765625, 253.07470703125, 247.1550750732422, 238.5702667236328, 230.1221160888672, 225.3328399658203, 199.28561401367188, 192.0970458984375, 183.2196502685547, 181.2407684326172, 176.5985870361328, 172.89321899414062, 165.2555389404297, 160.0938720703125, 156.4921112060547, 153.60556030273438, 152.64645385742188, 152.17962646484375, 150.0383758544922, 134.3323516845703, 134.23934936523438, 132.50379943847656, 125.42080688476562, 118.10276794433594, 117.32305908203125, 973.1656494140625, 330.92950439453125, 210.4431915283203, 363.2099609375, 580.115966796875, 599.6564331054688, 345.47149658203125, 1294.5814208984375, 386.2207336425781, 381.38916015625, 577.3212280273438, 668.228759765625, 979.7471923828125, 721.8244018554688, 669.87255859375, 425.95440673828125, 875.6213989257812, 1602.514892578125, 1218.410400390625, 6077.89453125, 1585.909912109375, 1458.8323974609375, 862.0960083007812, 1598.7230224609375, 1231.54296875, 6121.79248046875, 963.0909423828125, 1309.236328125, 2025.796630859375, 1714.282470703125, 1508.0531005859375, 1275.935546875, 765.379150390625, 3577.478271484375, 802.38427734375, 1511.04736328125, 1426.98974609375, 5507.01318359375, 2256.15966796875, 1911.3463134765625, 2428.078369140625, 291.8658752441406, 257.7537536621094, 176.0362548828125, 166.41744995117188, 151.7266387939453, 151.0646514892578, 142.8817138671875, 140.8300323486328, 131.2679443359375, 129.50155639648438, 129.4376983642578, 127.82295227050781, 125.6480712890625, 113.85418701171875, 112.28176879882812, 110.15646362304688, 111.11302185058594, 107.0680160522461, 106.46814727783203, 105.23743438720703, 102.35712432861328, 97.82178497314453, 95.89875793457031, 95.5555419921875, 94.89370727539062, 93.14261627197266, 92.67967987060547, 90.51508331298828, 90.29517364501953, 89.57148742675781, 138.07232666015625, 348.8736877441406, 883.8712158203125, 206.41163635253906, 264.0174255371094, 866.6035766601562, 266.8546447753906, 421.1537170410156, 205.82034301757812, 750.1053466796875, 407.8381042480469, 227.65933227539062, 249.61294555664062, 656.5404052734375, 6121.79248046875, 316.5340881347656, 2428.078369140625, 322.4572448730469, 617.2031860351562, 2185.76416015625, 1911.3463134765625, 711.9486694335938, 1511.04736328125, 2025.796630859375, 328.7445068359375, 3577.478271484375, 941.2666015625, 2470.49755859375, 6077.89453125, 3020.092529296875, 2485.313720703125, 2236.111083984375, 1205.1473388671875, 1093.220703125, 994.6949462890625, 928.9645385742188, 817.73291015625, 765.2888793945312, 752.1510620117188, 734.8289794921875, 683.478271484375, 552.9138793945312, 505.60809326171875, 396.5303649902344, 394.0848693847656, 348.75018310546875, 331.6272277832031, 308.59869384765625, 307.9374694824219, 314.0060729980469, 273.38421630859375, 231.49098205566406, 211.62228393554688, 208.04904174804688, 207.7152557373047, 184.72940063476562, 179.57688903808594, 177.6089324951172, 168.62091064453125, 1299.786376953125, 742.1578369140625, 2150.072021484375, 1045.5618896484375, 887.7353515625, 2303.366455078125, 964.7803344726562, 1297.5494384765625, 3577.478271484375, 2109.242919921875, 1830.7332763671875, 1438.936279296875, 6077.89453125, 925.2227783203125, 2001.04931640625, 1190.0191650390625, 1113.8797607421875, 670.96826171875, 605.2884521484375, 557.2052001953125, 528.1343994140625, 516.563720703125, 524.0964965820312, 521.9376220703125, 397.3693542480469, 392.7586975097656, 391.95635986328125, 370.2099914550781, 356.62786865234375, 341.2712097167969, 335.8740234375, 299.54913330078125, 279.9222106933594, 257.15478515625, 239.2549285888672, 238.49986267089844, 238.2137451171875, 225.6106719970703, 198.7056121826172, 187.58082580566406, 177.20362854003906, 175.885498046875, 172.64002990722656, 163.0444793701172, 828.9756469726562, 2450.744384765625, 203.7484130859375, 336.0622253417969, 1740.4801025390625, 423.6324157714844, 1556.512451171875, 856.6621704101562, 1120.9180908203125, 731.502197265625, 2109.242919921875, 2334.228271484375, 590.0283203125, 892.0193481445312, 1617.224365234375, 1654.619873046875, 783.4885864257812, 1456.6448974609375, 2185.76416015625, 3577.478271484375, 1093.2496337890625, 568.4854736328125, 6121.79248046875, 2303.366455078125, 2981.6337890625, 378.824462890625, 334.438720703125, 260.2498474121094, 234.79209899902344, 205.11219787597656, 199.10447692871094, 198.038818359375, 171.92144775390625, 154.749267578125, 147.94503784179688, 143.4693603515625, 139.7082977294922, 134.84645080566406, 133.9577178955078, 131.404541015625, 130.3214874267578, 129.1444091796875, 128.916748046875, 126.69615173339844, 126.33718872070312, 122.66260528564453, 120.43433380126953, 117.02305603027344, 116.65694427490234, 111.66867065429688, 109.12415313720703, 107.1091079711914, 106.63304138183594, 103.73332214355469, 4849.310546875, 607.2353515625, 402.44140625, 467.6258544921875, 143.13522338867188, 5507.01318359375, 1151.7713623046875, 815.332763671875, 678.8185424804688, 205.4345245361328, 1823.77197265625, 451.0724792480469, 583.6575927734375, 299.2421875, 238.0481414794922, 1188.9638671875, 651.7186279296875, 2470.49755859375, 374.0238037109375, 516.6427612304688, 315.779052734375, 807.7261962890625, 509.28314208984375, 1438.936279296875, 1960.9754638671875, 1593.6038818359375, 1062.58056640625, 579.3442993164062, 1654.619873046875, 773.7225341796875, 1034.987060546875, 6077.89453125, 964.7803344726562, 1132.8232421875, 6121.79248046875, 1306.430908203125, 1275.935546875, 1511.04736328125], \"loglift\": [30.0, 29.0, 28.0, 27.0, 26.0, 25.0, 24.0, 23.0, 22.0, 21.0, 20.0, 19.0, 18.0, 17.0, 16.0, 15.0, 14.0, 13.0, 12.0, 11.0, 10.0, 9.0, 8.0, 7.0, 6.0, 5.0, 4.0, 3.0, 2.0, 1.0, 2.258500099182129, 2.25819993019104, 2.257999897003174, 2.2565999031066895, 2.2565999031066895, 2.2564001083374023, 2.2562999725341797, 2.2562999725341797, 2.256200075149536, 2.2558000087738037, 2.2555999755859375, 2.255199909210205, 2.255000114440918, 2.255000114440918, 2.255000114440918, 2.2548000812530518, 2.254300117492676, 2.2541000843048096, 2.2541000843048096, 2.2541000843048096, 2.253999948501587, 2.2535998821258545, 2.253499984741211, 2.2534000873565674, 2.2532999515533447, 2.2532999515533447, 2.253200054168701, 2.253200054168701, 2.2530999183654785, 2.2528998851776123, 2.251300096511841, 2.2495999336242676, 2.224400043487549, 2.195199966430664, 2.2460999488830566, 2.0048999786376953, 2.147900104522705, 2.153899908065796, 2.2107999324798584, 2.1124000549316406, 1.9980000257492065, 1.8946000337600708, 1.7443000078201294, 2.170599937438965, 2.0536000728607178, 1.9782999753952026, 1.4991999864578247, 1.8212000131607056, 1.2546000480651855, 1.2383999824523926, 1.833799958229065, 1.4175000190734863, 0.9072999954223633, 1.5356999635696411, 1.235700011253357, 1.420300006866455, 0.450300008058548, 2.422300100326538, 2.4212000370025635, 2.4198999404907227, 2.419800043106079, 2.4196999073028564, 2.419600009918213, 2.4195001125335693, 2.4186999797821045, 2.418600082397461, 2.4184000492095947, 2.418299913406372, 2.4179999828338623, 2.4179000854492188, 2.4179000854492188, 2.417799949645996, 2.4177000522613525, 2.4177000522613525, 2.41759991645813, 2.41759991645813, 2.4175000190734863, 2.4173998832702637, 2.417099952697754, 2.4163999557495117, 2.4163999557495117, 2.416300058364868, 2.4161999225616455, 2.4161999225616455, 2.4161999225616455, 2.416100025177002, 2.4159998893737793, 2.412100076675415, 2.3352999687194824, 2.3952999114990234, 2.2269999980926514, 2.184999942779541, 1.9280999898910522, 2.150099992752075, 2.0876998901367188, 1.926800012588501, 2.1308000087738037, 1.6455999612808228, 1.6128000020980835, 1.7143000364303589, 1.240399956703186, 1.6550999879837036, 1.5884000062942505, 1.957200050354004, 1.9837000370025635, 1.8575999736785889, 1.4771000146865845, 1.4332000017166138, 1.2384999990463257, 1.7589999437332153, 0.367900013923645, -0.6287999749183655, 0.5717999935150146, 3.579400062561035, 3.5790998935699463, 3.578700065612793, 3.577399969100952, 3.5773000717163086, 3.5773000717163086, 3.5771000385284424, 3.5762999057769775, 3.5759999752044678, 3.5750999450683594, 3.574899911880493, 3.5748000144958496, 3.5748000144958496, 3.5741000175476074, 3.5739998817443848, 3.5738000869750977, 3.572999954223633, 3.5729000568389893, 3.5729000568389893, 3.572700023651123, 3.5725998878479004, 3.572499990463257, 3.572200059890747, 3.5720999240875244, 3.5720999240875244, 3.5720999240875244, 3.5717999935150146, 3.571700096130371, 3.5713999271392822, 3.5710999965667725, 3.567199945449829, 3.5566999912261963, 3.2427000999450684, 3.4328999519348145, 3.0072999000549316, 3.190700054168701, 2.6731998920440674, 3.2506000995635986, 1.7698999643325806, 2.8399999141693115, 3.305999994277954, 2.72379994392395, 2.151599884033203, 3.08489990234375, 2.174999952316284, 2.1522998809814453, 2.15120005607605, 2.150899887084961, 2.1507999897003174, 2.150700092315674, 2.150399923324585, 2.1500000953674316, 2.149899959564209, 2.1498000621795654, 2.149600028991699, 2.149399995803833, 2.149199962615967, 2.149199962615967, 2.1489999294281006, 2.1489999294281006, 2.148699998855591, 2.1486001014709473, 2.148200035095215, 2.148099899291992, 2.1480000019073486, 2.147900104522705, 2.1477999687194824, 2.1477999687194824, 2.147599935531616, 2.147599935531616, 2.1473000049591064, 2.1470000743865967, 2.1468000411987305, 2.146699905395508, 2.1466000080108643, 2.136199951171875, 2.0778000354766846, 2.060499906539917, 2.020400047302246, 1.9808000326156616, 2.059499979019165, 2.0848000049591064, 1.989400029182434, 2.0676000118255615, 1.8070000410079956, 1.5746999979019165, 1.9472999572753906, 1.8025000095367432, 1.9494999647140503, 1.7342000007629395, 1.8452999591827393, 1.2490999698638916, 1.583899974822998, 1.6390999555587769, 1.7563999891281128, 1.8205000162124634, 1.377500057220459, 1.3866000175476074, 1.371000051498413, 1.5422999858856201, 0.7311000227928162, 0.796500027179718, 0.42809998989105225, 0.5983999967575073, -0.35499998927116394, -0.3716000020503998, 0.40400001406669617, 0.9059000015258789, 0.7315000295639038, 0.8148000240325928, 3.6238999366760254, 3.62280011177063, 3.6201000213623047, 3.6194000244140625, 3.618799924850464, 3.618499994277954, 3.6182000637054443, 3.618000030517578, 3.6178998947143555, 3.6175999641418457, 3.617300033569336, 3.6171998977661133, 3.6168999671936035, 3.6166999340057373, 3.6166999340057373, 3.6166000366210938, 3.616300106048584, 3.615999937057495, 3.615999937057495, 3.615499973297119, 3.6152000427246094, 3.6149001121520996, 3.6145999431610107, 3.6145999431610107, 3.6143999099731445, 3.614000082015991, 3.6138999462127686, 3.6136999130249023, 3.6135001182556152, 3.6131999492645264, 3.612299919128418, 3.325200080871582, 3.3420000076293945, 2.8513998985290527, 2.586899995803833, 2.2421998977661133, 2.7911999225616455, 3.0018999576568604, 2.5929999351501465, 2.877500057220459, 1.4182000160217285, 2.5083000659942627, 1.40910005569458, 2.6531999111175537, 2.8740999698638916, 2.5034000873565674, 1.684399962425232, 1.6842000484466553, 1.6837999820709229, 1.68340003490448, 1.6833000183105469, 1.6830999851226807, 1.6829999685287476, 1.6828999519348145, 1.682800054550171, 1.6826000213623047, 1.6825000047683716, 1.6819000244140625, 1.6818000078201294, 1.6815999746322632, 1.68149995803833, 1.681399941444397, 1.6812000274658203, 1.680999994277954, 1.6806999444961548, 1.6806999444961548, 1.6806000471115112, 1.6805000305175781, 1.6805000305175781, 1.680400013923645, 1.6796000003814697, 1.6796000003814697, 1.6794999837875366, 1.6791000366210938, 1.6786999702453613, 1.6785999536514282, 1.6655999422073364, 1.6753000020980835, 1.6784000396728516, 1.6719000339508057, 1.6440999507904053, 1.6304999589920044, 1.6454999446868896, 1.5607000589370728, 1.631500005722046, 1.629699945449829, 1.5779999494552612, 1.538599967956543, 1.4938000440597534, 1.517199993133545, 1.511199951171875, 1.5700000524520874, 1.4606000185012817, 1.3372000455856323, 1.3516000509262085, 1.0388000011444092, 1.2827999591827393, 1.2740999460220337, 1.375499963760376, 1.2249000072479248, 1.2838000059127808, 0.7235000133514404, 1.2862000465393066, 1.1816999912261963, 1.0328999757766724, 1.042099952697754, 1.013200044631958, 1.0717999935150146, 1.2711999416351318, 0.4458000063896179, 1.236199975013733, 0.8669999837875366, 0.8603000044822693, -0.10930000245571136, 0.5072000026702881, 0.5878999829292297, 0.3278999924659729, 2.6793999671936035, 2.6789000034332275, 2.6772000789642334, 2.6768999099731445, 2.6763999462127686, 2.6761999130249023, 2.6760001182556152, 2.675800085067749, 2.6754000186920166, 2.675299882888794, 2.675299882888794, 2.6751999855041504, 2.675100088119507, 2.6742000579833984, 2.674099922180176, 2.6740000247955322, 2.6738998889923096, 2.6737000942230225, 2.6737000942230225, 2.6735999584198, 2.67330002784729, 2.6728999614715576, 2.6726999282836914, 2.672600030899048, 2.672600030899048, 2.6723999977111816, 2.672300100326538, 2.672100067138672, 2.672100067138672, 2.671999931335449, 2.6649999618530273, 2.6224000453948975, 2.564199924468994, 2.6180999279022217, 2.572200059890747, 2.3926000595092773, 2.53439998626709, 2.449899911880493, 2.5560998916625977, 2.342600107192993, 2.440500020980835, 2.5355000495910645, 2.448199987411499, 2.130500078201294, 1.319700002670288, 2.2434000968933105, 1.1490000486373901, 2.132699966430664, 1.6419999599456787, 0.77920001745224, 0.8414999842643738, 1.4979000091552734, 0.885699987411499, 0.5734000205993652, 1.975600004196167, -0.08060000091791153, 1.0134999752044678, 0.06419999897480011, -0.835099995136261, 2.2481000423431396, 2.2481000423431396, 2.247999906539917, 2.2476999759674072, 2.2476000785827637, 2.247499942779541, 2.2474000453948975, 2.247299909591675, 2.2472000122070312, 2.2472000122070312, 2.2471001148223877, 2.246999979019165, 2.2467000484466553, 2.246500015258789, 2.246000051498413, 2.246000051498413, 2.245699882507324, 2.245500087738037, 2.245300054550171, 2.245300054550171, 2.2451999187469482, 2.2448999881744385, 2.24429988861084, 2.2439000606536865, 2.243799924850464, 2.243799924850464, 2.2432000637054443, 2.2430999279022217, 2.243000030517578, 2.2427000999450684, 2.16129994392395, 1.9551000595092773, 1.7172000408172607, 1.7791999578475952, 1.7935999631881714, 1.4874000549316406, 1.7079999446868896, 1.3499000072479248, 0.6589999794960022, 0.974399983882904, 0.9699000120162964, 1.0399999618530273, -0.1428000032901764, 1.3762999773025513, 1.9609999656677246, 1.9607000350952148, 1.9607000350952148, 1.9601000547409058, 1.9599000215530396, 1.9598000049591064, 1.9596999883651733, 1.9596999883651733, 1.9595999717712402, 1.9591000080108643, 1.9591000080108643, 1.9591000080108643, 1.9591000080108643, 1.958899974822998, 1.958799958229065, 1.9586999416351318, 1.9586999416351318, 1.958299994468689, 1.9580999612808228, 1.957800030708313, 1.9574999809265137, 1.9574999809265137, 1.9574999809265137, 1.9572999477386475, 1.9566999673843384, 1.9564000368118286, 1.9560999870300293, 1.9560999870300293, 1.9559999704360962, 1.9556000232696533, 1.955299973487854, 1.9383000135421753, 1.9541000127792358, 1.9438999891281128, 1.9086999893188477, 1.926900029182434, 1.8589999675750732, 1.8775999546051025, 1.8438999652862549, 1.809999942779541, 1.6328999996185303, 1.5529999732971191, 1.807800054550171, 1.6833000183105469, 1.4840999841690063, 1.476199984550476, 1.669700026512146, 1.3518999814987183, 1.1204999685287476, 0.4189999997615814, 1.2230000495910645, 1.687000036239624, -0.37439998984336853, 0.31779998540878296, 1.988800048828125, 1.9866000413894653, 1.98580002784729, 1.9853999614715576, 1.9850000143051147, 1.9844000339508057, 1.9843000173568726, 1.9843000173568726, 1.9835000038146973, 1.9829000234603882, 1.9825999736785889, 1.9823999404907227, 1.982200026512146, 1.9819999933242798, 1.9818999767303467, 1.9817999601364136, 1.9816999435424805, 1.9816999435424805, 1.981600046157837, 1.9815000295639038, 1.9815000295639038, 1.9812999963760376, 1.9810999631881714, 1.9809000492095947, 1.9809000492095947, 1.9804999828338623, 1.980299949645996, 1.9801000356674194, 1.9801000356674194, 1.9797999858856201, 1.9775999784469604, 1.9388999938964844, 1.9306000471115112, 1.92330002784729, 1.9682999849319458, 1.7759000062942505, 1.832900047302246, 1.7950999736785889, 1.8028000593185425, 1.9222999811172485, 1.6308000087738037, 1.7856999635696411, 1.7273000478744507, 1.8357000350952148, 1.8738000392913818, 1.5433000326156616, 1.6344000101089478, 1.3203999996185303, 1.743299961090088, 1.6395000219345093, 1.7695000171661377, 1.4940999746322632, 1.5845999717712402, 1.149899959564209, 1.000100016593933, 1.0413000583648682, 1.2228000164031982, 1.493899941444397, 1.010599970817566, 1.343500018119812, 1.1739000082015991, -0.027300000190734863, 1.1126999855041504, 0.9980999827384949, -0.24210000038146973, 0.8105999827384949, 0.7924000024795532, 0.6166999936103821], \"logprob\": [30.0, 29.0, 28.0, 27.0, 26.0, 25.0, 24.0, 23.0, 22.0, 21.0, 20.0, 19.0, 18.0, 17.0, 16.0, 15.0, 14.0, 13.0, 12.0, 11.0, 10.0, 9.0, 8.0, 7.0, 6.0, 5.0, 4.0, 3.0, 2.0, 1.0, -3.884000062942505, -4.259799957275391, -4.38539981842041, -5.308199882507324, -5.338799953460693, -5.4141998291015625, -5.420499801635742, -5.436699867248535, -5.457300186157227, -5.610499858856201, -4.924799919128418, -2.962899923324585, -5.803299903869629, -5.811800003051758, -5.81820011138916, -5.839600086212158, -5.97599983215332, -6.000699996948242, -6.002900123596191, -6.004799842834473, -6.020500183105469, -6.113699913024902, -6.117700099945068, -6.134500026702881, -6.155099868774414, -6.16510009765625, -6.1697998046875, -6.180500030517578, -6.19320011138916, -6.225599765777588, -4.5503997802734375, -5.8958001136779785, -5.227200031280518, -5.462299823760986, -6.096499919891357, -4.0640997886657715, -5.315499782562256, -5.402299880981445, -5.837900161743164, -5.33650016784668, -5.019999980926514, -4.9217000007629395, -4.757900238037109, -5.803699970245361, -5.590099811553955, -5.488999843597412, -4.785699844360352, -5.275199890136719, -4.593800067901611, -4.728899955749512, -5.435800075531006, -5.135000228881836, -4.892899990081787, -5.285699844360352, -5.253499984741211, -5.351799964904785, -5.315899848937988, -4.568600177764893, -5.1143999099731445, -5.557000160217285, -5.587800025939941, -5.600299835205078, -5.638899803161621, -5.662199974060059, -5.832300186157227, -5.845399856567383, -5.896699905395508, -5.914700031280518, -5.965000152587891, -5.9807000160217285, -5.985799789428711, -5.998000144958496, -6.016900062561035, -6.022200107574463, -6.031099796295166, -6.037899971008301, -6.047800064086914, -6.071800231933594, -6.111000061035156, -6.216899871826172, -6.217400074005127, -6.237800121307373, -6.242099761962891, -6.245299816131592, -6.249100208282471, -6.260300159454346, -6.26800012588501, -6.176400184631348, -5.514800071716309, -6.077000141143799, -5.450900077819824, -5.675300121307373, -5.071700096130371, -5.6066999435424805, -5.497600078582764, -5.247799873352051, -5.660200119018555, -4.986499786376953, -5.287899971008301, -5.40910005569458, -4.995800018310547, -5.377500057220459, -5.428299903869629, -5.694300174713135, -5.732399940490723, -5.672900199890137, -5.555200099945068, -5.577300071716309, -5.543099880218506, -5.714300155639648, -5.464000225067139, -5.430799961090088, -5.63129997253418, -4.102099895477295, -4.214799880981445, -4.333799839019775, -4.6417999267578125, -4.660900115966797, -4.66540002822876, -4.69290018081665, -4.853000164031982, -4.899600028991699, -5.035999774932861, -5.0559000968933105, -5.070000171661377, -5.075500011444092, -5.16949987411499, -5.183800220489502, -5.2052001953125, -5.290800094604492, -5.301700115203857, -5.302800178527832, -5.3282999992370605, -5.3368000984191895, -5.349599838256836, -5.379700183868408, -5.3907999992370605, -5.390699863433838, -5.39139986038208, -5.41540002822876, -5.423900127410889, -5.459199905395508, -5.48199987411499, -5.033899784088135, -4.4928998947143555, -3.7416000366210938, -4.821300029754639, -4.32289981842041, -4.683000087738037, -4.518899917602539, -5.102799892425537, -4.030300140380859, -4.840799808502197, -5.172999858856201, -4.896699905395508, -4.657100200653076, -5.124199867248535, -5.089600086212158, -4.502999782562256, -4.397799968719482, -5.719399929046631, -5.747900009155273, -5.775700092315674, -5.835899829864502, -5.941100120544434, -5.982600212097168, -5.9878997802734375, -6.042600154876709, -6.019000053405762, -6.119100093841553, -6.125899791717529, -6.154600143432617, -6.166900157928467, -6.222899913787842, -6.230199813842773, -6.304299831390381, -6.322299957275391, -5.831099987030029, -6.353600025177002, -6.263000011444092, -6.265100002288818, -6.404300212860107, -6.406899929046631, -6.439899921417236, -6.4882001876831055, -6.52239990234375, -6.530200004577637, -6.538099765777588, -5.682400226593018, -4.741499900817871, -5.17710018157959, -5.331299781799316, -5.043900012969971, -5.754499912261963, -6.033400058746338, -5.654200077056885, -6.0346999168396, -5.149899959564209, -4.4344000816345215, -5.635799884796143, -5.222899913787842, -5.69920015335083, -5.179599761962891, -5.491199970245361, -4.460299968719482, -5.1880998611450195, -5.312900066375732, -5.515600204467773, -5.623700141906738, -5.2006001472473145, -5.223299980163574, -5.458799839019775, -5.622900009155273, -5.2093000411987305, -5.336699962615967, -5.298699855804443, -5.361800193786621, -5.1641998291015625, -5.173600196838379, -5.375400066375732, -5.547100067138672, -5.553400039672852, -5.582600116729736, -3.3642001152038574, -3.944999933242798, -4.684000015258789, -4.803500175476074, -4.905700206756592, -4.947999954223633, -4.996799945831299, -5.018499851226807, -5.037799835205078, -5.071899890899658, -5.118100166320801, -5.129499912261963, -5.1707000732421875, -5.183899879455566, -5.185800075531006, -5.201700210571289, -5.236499786376953, -5.263400077819824, -5.267499923706055, -5.318399906158447, -5.348899841308594, -5.382999897003174, -5.407800197601318, -5.408100128173828, -5.43120002746582, -5.46120023727417, -5.468200206756592, -5.484899997711182, -5.505000114440918, -5.5254998207092285, -5.507699966430664, -4.191100120544434, -4.402400016784668, -4.053500175476074, -4.22189998626709, -4.409299850463867, -4.869100093841553, -5.036099910736084, -4.814599990844727, -5.115200042724609, -4.656599998474121, -5.034999847412109, -4.793900012969971, -5.11329984664917, -5.149199962615967, -5.140699863433838, -5.849299907684326, -5.948500156402588, -6.0594000816345215, -6.188000202178955, -6.224100112915039, -6.2743000984191895, -6.304900169372559, -6.328700065612793, -6.364200115203857, -6.400400161743164, -6.421500205993652, -6.545000076293945, -6.5817999839782715, -6.629300117492676, -6.6402997970581055, -6.666399955749512, -6.687699794769287, -6.733099937438965, -6.765100002288818, -6.787899971008301, -6.806700229644775, -6.813000202178955, -6.816100120544434, -6.8302998542785645, -6.9415998458862305, -6.942299842834473, -6.955399990081787, -7.010799884796143, -7.071400165557861, -7.078100204467773, -4.975500106811523, -6.044400215148926, -6.49399995803833, -5.954699993133545, -5.5142998695373535, -5.494699954986572, -6.031199932098389, -4.795000076293945, -5.933700084686279, -5.9481000900268555, -5.58519983291626, -5.478300094604492, -5.140500068664551, -5.422599792480469, -5.503300189971924, -5.897299766540527, -5.285999774932861, -4.805099964141846, -5.064700126647949, -3.770400047302246, -4.869900226593018, -4.962100028991699, -5.38670015335083, -4.9197998046875, -5.121699810028076, -4.078499794006348, -5.365200042724609, -5.162700176239014, -4.875, -5.032800197601318, -5.189799785614014, -5.298399925231934, -5.610099792480469, -4.893400192260742, -5.597799777984619, -5.334099769592285, -5.3979997634887695, -5.017199993133545, -5.293000221252441, -5.378200054168701, -5.398799896240234, -5.165900230407715, -5.290599822998047, -5.673699855804443, -5.730199813842773, -5.823200225830078, -5.827600002288818, -5.883600234985352, -5.898200035095215, -5.968999862670898, -5.982600212097168, -5.983099937438965, -5.995800018310547, -6.0131001472473145, -6.112400054931641, -6.126399993896484, -6.145699977874756, -6.1371002197265625, -6.1743998527526855, -6.180099964141846, -6.191800117492676, -6.219799995422363, -6.265600204467773, -6.285699844360352, -6.289299964904785, -6.296299934387207, -6.315100193023682, -6.320099830627441, -6.343999862670898, -6.346499919891357, -6.354599952697754, -5.928899765014648, -5.04449987411499, -4.173099994659424, -5.573699951171875, -5.3734002113342285, -4.3643999099731445, -5.4004998207092285, -5.02869987487793, -5.638500213623047, -4.558800220489502, -5.070300102233887, -5.558199882507324, -5.553500175476074, -4.904099941253662, -3.482300043106079, -5.5208001136779785, -4.577700138092041, -5.61299991607666, -5.454400062561035, -5.052700042724609, -5.124499797821045, -5.455699920654297, -5.315299987792969, -5.334499835968018, -5.750699996948242, -5.4197998046875, -5.660900115966797, -5.645199775695801, -5.6442999839782715, -3.2604000568389893, -3.455399990081787, -3.5611000061035156, -4.179599761962891, -4.277100086212158, -4.371699810028076, -4.440100193023682, -4.567800045013428, -4.634099960327148, -4.651500225067139, -4.674799919128418, -4.747399806976318, -4.959700107574463, -5.049300193786621, -5.292799949645996, -5.298999786376953, -5.421599864959717, -5.4720001220703125, -5.5441999435424805, -5.54640007019043, -5.5269999504089355, -5.665800094604492, -5.832799911499023, -5.922900199890137, -5.940000057220459, -5.9415998458862305, -6.059500217437744, -6.087900161743164, -6.098999977111816, -6.151199817657471, -4.190400123596191, -4.956999778747559, -4.131100177764893, -4.79010009765625, -4.9394001960754395, -4.292099952697754, -4.941699981689453, -5.003499984741211, -4.680200099945068, -4.893099784851074, -5.039299964904785, -5.20989990234375, -4.952000141143799, -5.315299987792969, -3.9591000080108643, -4.4791998863220215, -4.545300006866455, -5.052800178527832, -5.156000137329102, -5.238900184631348, -5.292500019073486, -5.314700126647949, -5.300300121307373, -5.304900169372559, -5.577600002288818, -5.589300155639648, -5.591400146484375, -5.648600101470947, -5.686100006103516, -5.730199813842773, -5.746200084686279, -5.861000061035156, -5.928999900817871, -6.014100074768066, -6.086599826812744, -6.089700222015381, -6.09089994430542, -6.145500183105469, -6.273099899291992, -6.330999851226807, -6.388199806213379, -6.395699977874756, -6.414400100708008, -6.47189998626709, -4.846099853515625, -3.7792000770568848, -6.2505998611450195, -5.76039981842041, -4.151000022888184, -5.545899868011475, -4.312399864196777, -4.890999794006348, -4.655799865722656, -5.116499900817871, -4.234600067138672, -4.213099956512451, -5.333600044250488, -5.0447998046875, -4.64900016784668, -4.634099960327148, -5.1880998611450195, -4.885799884796143, -4.711400032043457, -4.920199871063232, -5.301700115203857, -5.491700172424316, -5.176400184631348, -5.461699962615967, -3.532599925994873, -5.597899913787842, -5.723400115966797, -5.974599838256836, -6.077899932861328, -6.213699817657471, -6.243500232696533, -6.248899936676025, -6.390999794006348, -6.4969000816345215, -6.542099952697754, -6.5731000900268555, -6.599800109863281, -6.635499954223633, -6.642199993133545, -6.661499977111816, -6.669899940490723, -6.678999900817871, -6.680799961090088, -6.698299884796143, -6.701200008392334, -6.730899810791016, -6.7494001388549805, -6.778299808502197, -6.781499862670898, -6.8256001472473145, -6.848800182342529, -6.867599964141846, -6.872099876403809, -6.900000095367432, -3.0573999881744385, -5.173699855804443, -5.593500137329102, -5.4506001472473145, -6.5894999504089355, -3.1319000720977783, -4.639599800109863, -5.022900104522705, -5.198400020599365, -6.274199962615967, -4.382199764251709, -5.624199867248535, -5.425000190734863, -5.9847002029418945, -6.175300121307373, -4.897500038146973, -5.407599925994873, -4.388999938964844, -5.853899955749512, -5.634699821472168, -5.997099876403809, -5.3333001136779785, -5.703999996185303, -5.099999904632568, -4.940299987792969, -5.106500148773193, -5.3302998542785645, -5.665800094604492, -5.099599838256836, -5.526800155639648, -5.405600070953369, -4.836400032043457, -5.5370001792907715, -5.491099834442139, -5.044099807739258, -5.535900115966797, -5.5777997970581055, -5.5843000411987305]}, \"token.table\": {\"Topic\": [2, 1, 2, 3, 4, 6, 7, 8, 9, 10, 7, 10, 5, 1, 4, 6, 9, 10, 5, 1, 2, 3, 4, 6, 10, 1, 4, 1, 4, 1, 4, 1, 1, 1, 7, 1, 2, 4, 6, 8, 9, 10, 1, 4, 8, 9, 10, 5, 1, 3, 1, 1, 3, 3, 4, 7, 2, 7, 1, 1, 1, 1, 5, 2, 6, 8, 9, 2, 10, 2, 4, 7, 1, 2, 4, 6, 7, 8, 9, 3, 8, 6, 10, 2, 2, 7, 8, 9, 10, 2, 4, 8, 9, 10, 9, 9, 9, 9, 5, 6, 4, 9, 10, 9, 8, 9, 1, 2, 3, 6, 1, 9, 4, 2, 8, 9, 10, 1, 10, 4, 7, 3, 5, 9, 1, 2, 4, 7, 1, 3, 9, 9, 10, 6, 2, 6, 7, 10, 2, 6, 8, 8, 4, 7, 4, 8, 7, 2, 3, 6, 9, 10, 2, 1, 2, 4, 6, 7, 9, 7, 7, 8, 1, 7, 7, 2, 4, 7, 8, 9, 10, 1, 7, 1, 2, 4, 6, 7, 10, 1, 1, 1, 4, 5, 9, 2, 4, 5, 6, 7, 10, 3, 9, 10, 10, 2, 8, 4, 4, 7, 4, 7, 10, 10, 2, 6, 8, 9, 10, 5, 5, 6, 1, 2, 4, 5, 6, 7, 9, 5, 2, 2, 6, 4, 1, 2, 3, 4, 6, 7, 8, 9, 10, 2, 6, 9, 9, 4, 8, 6, 5, 10, 6, 1, 10, 1, 2, 6, 8, 9, 10, 2, 2, 6, 1, 2, 4, 6, 8, 10, 1, 1, 4, 6, 7, 8, 9, 9, 5, 6, 1, 3, 4, 8, 9, 1, 10, 1, 2, 4, 6, 9, 6, 1, 2, 4, 7, 8, 10, 2, 6, 10, 5, 10, 7, 2, 3, 3, 2, 10, 2, 8, 10, 10, 2, 4, 1, 2, 4, 6, 8, 9, 10, 1, 4, 8, 9, 10, 10, 6, 7, 10, 9, 1, 7, 1, 4, 7, 6, 8, 1, 2, 3, 4, 6, 7, 6, 2, 4, 6, 7, 10, 1, 3, 4, 6, 7, 9, 10, 4, 5, 1, 4, 5, 8, 9, 10, 1, 2, 3, 4, 6, 7, 10, 10, 4, 1, 2, 5, 9, 2, 4, 6, 7, 8, 9, 10, 3, 6, 8, 10, 3, 1, 2, 4, 6, 7, 8, 9, 10, 10, 5, 6, 5, 9, 1, 2, 3, 4, 5, 6, 7, 8, 9, 10, 7, 9, 3, 6, 1, 2, 4, 6, 7, 8, 9, 10, 3, 1, 2, 3, 4, 5, 6, 7, 8, 9, 10, 1, 3, 4, 8, 9, 10, 6, 3, 9, 10, 9, 7, 8, 10, 10, 1, 4, 8, 9, 10, 10, 7, 10, 4, 6, 7, 9, 10, 10, 3, 7, 7, 8, 1, 2, 4, 6, 7, 8, 9, 10, 1, 2, 5, 6, 7, 8, 9, 10, 9, 1, 4, 6, 2, 1, 3, 2, 5, 6, 9, 10, 2, 4, 6, 8, 10, 1, 2, 3, 4, 6, 7, 8, 9, 10, 3, 4, 10, 4, 4, 4, 1, 4, 6, 7, 10, 7, 4, 7, 9, 7, 4, 7, 4, 7, 6, 6, 7, 10, 2, 3, 9, 1, 1, 2, 6, 9, 9, 8, 8, 9, 3, 4, 1, 2, 4, 6, 7, 8, 9, 10, 5, 1, 1, 10, 7, 9, 10, 4, 9, 10, 1, 3, 4, 7, 9, 10, 1, 3, 4, 6, 7, 10, 2, 5, 5, 4, 1, 4, 7, 9, 1, 4, 7, 9, 3, 6, 5, 5, 6, 8, 10, 8, 10, 1, 8, 2, 7, 9, 5, 1, 2, 3, 4, 5, 6, 7, 9, 10, 5, 1, 2, 4, 6, 7, 8, 9, 10, 4, 8, 10, 1, 6, 8, 6, 9, 1, 4, 6, 10, 7, 4, 2, 4, 5, 6, 7, 9, 10, 1, 2, 3, 4, 5, 6, 7, 8, 9, 10, 1, 4, 9, 10, 2, 8, 7, 2, 1, 2, 4, 8, 9, 10, 1, 4, 8, 10, 1, 2, 4, 6, 1, 2, 4, 6, 7, 9, 10, 4, 2, 6, 2, 6, 7, 6, 7, 6, 7, 7, 9, 1, 2, 3, 4, 6, 7, 8, 9, 10, 5, 4, 4, 1, 6, 8, 9, 10, 6, 2, 2, 1, 2, 3, 4, 6, 7, 8, 9, 10, 3, 10, 6, 1, 5, 8, 8, 1, 4, 7, 8, 1, 4, 9, 10, 3, 3, 3, 4, 4, 1, 8, 8, 2, 5, 2, 4, 8, 4, 7, 9, 10, 3, 7, 1, 2, 4, 6, 7, 8, 9, 10, 4, 6, 9, 2, 4, 7, 1, 6, 7, 9, 1, 4, 7, 8, 9, 6, 8, 8, 3, 9, 3, 8, 1, 2, 3, 4, 6, 8, 9, 10, 1, 2, 4, 5, 6, 8, 10, 1, 2, 3, 4, 6, 7, 9, 1, 4, 1, 4, 9, 10, 9, 1, 2, 5, 6, 10, 2, 6, 7, 10, 4, 9, 3, 3, 7, 9, 7, 1, 2, 3, 4, 6, 7, 9, 10, 1, 2, 6, 7, 10, 7, 9, 1, 2, 4, 6, 7, 9, 10, 10, 6, 1, 4, 6, 7, 10, 4, 6, 7, 9, 10, 6, 9, 1, 2, 3, 4, 6, 7, 9, 10, 1, 3, 1, 4, 6, 7, 8, 9, 10, 2, 3, 6, 8, 9, 1, 2, 6, 1, 8, 10, 1, 2, 4, 6, 8, 9, 10, 8, 1, 2, 4, 6, 8, 9, 10, 1, 4, 9, 1, 1, 3, 1, 3, 4, 8, 9, 4, 5, 6, 8, 9, 1, 3, 6, 3, 7, 4, 6, 7, 8, 10, 2, 4, 6, 7, 8, 10, 1, 2, 6, 8, 9, 2, 6, 9, 10, 2, 6, 6, 5, 9, 1, 7, 9, 1, 6, 8, 10, 4, 8, 8, 10, 3, 10, 1, 3, 5, 3, 1, 2, 4, 5, 6, 7, 2, 8, 5, 9, 5, 9, 4, 5, 9, 9, 5, 4, 2, 2, 4, 10, 1, 2, 3, 4, 6, 7, 8, 9, 10, 2, 7, 6, 5, 6, 10, 3, 3, 1, 2, 3, 6, 2, 2, 7, 10, 2, 6, 3, 5, 1, 2, 4, 6, 7, 9, 10, 1, 4, 6, 9, 10, 4, 6, 2, 6, 10, 8, 8, 1, 4, 2, 4, 6, 8, 9, 10, 2, 4, 6, 8, 9, 10, 2, 6, 3, 4, 7, 9, 10, 7, 8, 2, 2, 3, 6, 1, 4, 2, 2, 2, 5, 8, 10, 6, 1, 4, 9, 10, 1, 3, 4, 7, 9, 10, 2, 4, 7, 9, 10, 2, 2, 5, 6, 7, 8, 9, 10, 1, 6, 8, 9, 10, 1, 2, 4, 6, 7, 8, 9, 10, 5, 6, 10, 10, 1, 4, 8, 9, 10, 1, 4, 8, 9, 10, 10, 10, 4, 7, 6, 7, 10, 2, 3, 3, 1, 4, 8, 9, 10, 3, 2, 5, 8, 1, 4, 10, 4, 7, 9, 4, 9, 6, 4, 5, 1, 2, 6, 1, 2, 4, 6, 7, 8, 9, 10, 4, 9, 8, 9, 5, 9, 9, 9, 2, 6, 10, 9, 9, 8, 9, 1, 4, 8, 4, 7, 1, 2, 4, 7, 2, 4, 6, 7, 10, 2, 6, 9, 10, 1, 2, 4, 6, 7, 8, 10, 2, 6, 10, 2, 6, 10, 8, 9, 8, 9, 8, 9, 1, 8, 8, 8, 8, 8, 8, 10, 8, 8, 8, 2, 4, 6, 7, 8, 9, 10, 6, 7, 4, 6], \"Freq\": [0.9934365749359131, 0.03792408108711243, 0.0561838261783123, 0.02247353084385395, 0.12641361355781555, 0.24580423533916473, 0.30620184540748596, 0.08146654814481735, 0.10394007712602615, 0.018259743228554726, 0.9885843396186829, 0.9945053458213806, 0.9938880801200867, 0.03446125611662865, 0.04850102588534355, 0.10338376462459564, 0.7466605305671692, 0.06636982411146164, 0.9912340044975281, 0.03642110899090767, 0.017252104356884956, 0.2453632652759552, 0.011501403525471687, 0.6574968695640564, 0.032587308436632156, 0.9660791158676147, 0.03235671669244766, 0.6531375646591187, 0.34487205743789673, 0.9919241070747375, 0.0072403219528496265, 0.9993000030517578, 0.9969111084938049, 0.11660654842853546, 0.8794077038764954, 0.3592793643474579, 0.0052965013310313225, 0.20479805767536163, 0.04678576439619064, 0.003531001042574644, 0.008827502839267254, 0.3707551062107086, 0.14237497746944427, 0.09037715941667557, 0.024760866537690163, 0.13247063755989075, 0.609117329120636, 0.9872220158576965, 0.9160325527191162, 0.08185822516679764, 0.9970402121543884, 0.8643782734870911, 0.1336905062198639, 0.7618529796600342, 0.21951696276664734, 0.012912762351334095, 0.9960333704948425, 0.9935618042945862, 0.9959237575531006, 0.9958456754684448, 0.9938589334487915, 0.9995020627975464, 0.9898859858512878, 0.6079131364822388, 0.1261375993490219, 0.14716053009033203, 0.11562612652778625, 0.9945239424705505, 0.9937228560447693, 0.9950390458106995, 0.9317585229873657, 0.06301748007535934, 0.16437138617038727, 0.005201626103371382, 0.211186021566391, 0.2637224495410919, 0.04109284654259682, 0.16437138617038727, 0.1492866724729538, 0.9750377535820007, 0.021013746038079262, 0.9900816679000854, 0.9929307103157043, 0.9907405972480774, 0.8201137781143188, 0.03477514162659645, 0.06665235757827759, 0.04346892982721329, 0.03187721595168114, 0.5676561594009399, 0.035009630024433136, 0.027507567778229713, 0.22756260633468628, 0.14003852009773254, 0.9982035756111145, 0.997397780418396, 0.9967315793037415, 0.9978370666503906, 0.472452849149704, 0.524065375328064, 0.0049080136232078075, 0.9914187788963318, 0.9951975345611572, 0.9965539574623108, 0.24214720726013184, 0.7567100524902344, 0.6942082047462463, 0.10039695352315903, 0.1065187156200409, 0.09794824570417404, 0.9971829056739807, 0.9955093860626221, 0.9953373074531555, 0.13300438225269318, 0.06016865372657776, 0.003166771261021495, 0.801193118095398, 0.05841277167201042, 0.9346043467521667, 0.9952670931816101, 0.9905819892883301, 0.9878606200218201, 0.07937784492969513, 0.919849157333374, 0.07637462764978409, 0.006641271989792585, 0.9098542928695679, 0.006641271989792585, 0.3894554376602173, 0.6063673496246338, 0.9978713393211365, 0.8575859665870667, 0.14067120850086212, 0.9953265190124512, 0.5148930549621582, 0.3566461205482483, 0.12281852960586548, 0.004723789636045694, 0.9748985767364502, 0.025655226781964302, 0.9990479946136475, 0.9986624717712402, 0.9105749130249023, 0.0876988098025322, 0.9957631230354309, 0.9978790283203125, 0.9943094253540039, 0.46363189816474915, 0.0015201045898720622, 0.41346845030784607, 0.015201045200228691, 0.1048872172832489, 0.9901595115661621, 0.055669430643320084, 0.019390475004911423, 0.018764976412057877, 0.6298776865005493, 0.09319937974214554, 0.1826457679271698, 0.9941133856773376, 0.9970756769180298, 0.9980599880218506, 0.6448443531990051, 0.35320621728897095, 0.9929523468017578, 0.0021616416051983833, 0.08538483828306198, 0.029182160273194313, 0.41827765107154846, 0.33397361636161804, 0.13077931106090546, 0.9979696273803711, 0.9956029653549194, 0.009145793505012989, 0.03397009149193764, 0.003919626120477915, 0.6598036885261536, 0.12281494587659836, 0.1698504537343979, 0.9927675127983093, 0.9982784986495972, 0.9962161183357239, 0.1993359476327896, 0.4356914460659027, 0.3645000159740448, 0.02183915674686432, 0.04963444545865059, 0.06882642954587936, 0.44075387716293335, 0.16610994935035706, 0.25346657633781433, 0.992728054523468, 0.01397280115634203, 0.978096067905426, 0.9940119981765747, 0.9986855387687683, 0.9949577450752258, 0.9981100559234619, 0.9945357441902161, 0.9924975633621216, 0.8484929800033569, 0.03640398755669594, 0.11481257528066635, 0.9896984100341797, 0.23804055154323578, 0.636851966381073, 0.0037388568744063377, 0.04112742468714714, 0.0797622799873352, 0.9845743775367737, 0.9859140515327454, 0.9922484755516052, 0.17090417444705963, 0.3922390639781952, 0.00840512290596962, 0.32499808073043823, 0.06163756921887398, 0.002801707712933421, 0.03922390937805176, 0.9838852882385254, 0.9932218790054321, 0.992030143737793, 0.9971960186958313, 0.9975886940956116, 0.36038705706596375, 0.09585876762866974, 0.015190733596682549, 0.07857275754213333, 0.17600297927856445, 0.014143096283078194, 0.08381094038486481, 0.1466691493988037, 0.028810011222958565, 0.9870060682296753, 0.007204423658549786, 0.997852087020874, 0.9947548508644104, 0.5973899364471436, 0.40106460452079773, 0.9953426718711853, 0.9904733896255493, 0.9943685531616211, 0.9953427910804749, 0.9974042773246765, 0.98941570520401, 0.04251261055469513, 0.014492934569716454, 0.057971738278865814, 0.21256303787231445, 0.2299545705318451, 0.44251760840415955, 0.9944451451301575, 0.4338523745536804, 0.5655041337013245, 0.0627548024058342, 0.005976648069918156, 0.46418631076812744, 0.07769642025232315, 0.035859886556863785, 0.353618323802948, 0.9962952136993408, 0.003471153788268566, 0.5414999723434448, 0.08504326641559601, 0.26727885007858276, 0.02429807558655739, 0.07810095697641373, 0.9992101788520813, 0.9974428415298462, 0.9887229204177856, 0.1883234679698944, 0.5629234313964844, 0.15761856734752655, 0.06550382077693939, 0.024563930928707123, 0.997818648815155, 0.9940633773803711, 0.06925096362829208, 0.6443350911140442, 0.08129461109638214, 0.006021823268383741, 0.1957092434167862, 0.9924024343490601, 0.1185317412018776, 0.001092458376660943, 0.560431182384491, 0.03932850435376167, 0.27857691049575806, 0.002184916753321886, 0.006043583154678345, 0.9881258606910706, 0.0030217915773391724, 0.9902114868164062, 0.9949301481246948, 0.9914825558662415, 0.995735764503479, 0.9855965971946716, 0.9920865893363953, 0.21656376123428345, 0.7833725810050964, 0.023055311292409897, 0.02470211870968342, 0.9518550038337708, 0.9966263771057129, 0.9936062097549438, 0.9930276870727539, 0.19960704445838928, 0.001541367033496499, 0.06704946607351303, 0.1772572100162506, 0.4069209098815918, 0.07013220340013504, 0.07706835120916367, 0.1463075876235962, 0.17365886270999908, 0.46714234352111816, 0.19319549202919006, 0.01910247467458248, 0.9936122298240662, 0.34373196959495544, 0.49278390407562256, 0.15817755460739136, 0.9964489340782166, 0.9370193481445312, 0.059628501534461975, 0.43225717544555664, 0.5658000707626343, 0.0011714287102222443, 0.9886716604232788, 0.9967960119247437, 0.011825754307210445, 0.3062870502471924, 0.061493925750255585, 0.020103782415390015, 0.4919514060020447, 0.10879693925380707, 0.9942891001701355, 0.0019635441713035107, 0.22973467409610748, 0.03927088528871536, 0.058906327933073044, 0.6676050424575806, 0.0032382141798734665, 0.0004047767724841833, 0.404371976852417, 0.005262097809463739, 0.07285981625318527, 0.00121433031745255, 0.5124473571777344, 0.9915388822555542, 0.986665666103363, 0.016617266461253166, 0.24510468542575836, 0.5359068512916565, 0.04154316708445549, 0.1578640341758728, 0.0041543166153132915, 0.2588469386100769, 0.06648465991020203, 0.16310901939868927, 0.04432310536503792, 0.3076023459434509, 0.015069855377078056, 0.14405009150505066, 0.9944527745246887, 0.9975072145462036, 0.8957427740097046, 0.10290517657995224, 0.9913521409034729, 0.998556911945343, 0.0018822102574631572, 0.14681239426136017, 0.3397389352321625, 0.006587735842913389, 0.008469945751130581, 0.031056469306349754, 0.46490591764450073, 0.4766453206539154, 0.1133485808968544, 0.0029063739348202944, 0.4068923592567444, 0.985055685043335, 0.030476775020360947, 0.011531752534210682, 0.17791847884655, 0.2569933533668518, 0.21580852568149567, 0.02841753326356411, 0.15444311499595642, 0.12437818944454193, 0.9951581954956055, 0.9929422736167908, 0.9965524077415466, 0.9886037111282349, 0.9962927103042603, 0.001960210269317031, 0.04720839485526085, 0.010127753019332886, 0.08004191517829895, 0.015681682154536247, 0.38158759474754333, 0.2559707760810852, 0.003430367913097143, 0.09670370072126389, 0.10732150822877884, 0.8938803672790527, 0.10226597636938095, 0.9898048043251038, 0.9940850138664246, 0.04590630903840065, 0.04993317648768425, 0.26174649596214294, 0.19328971207141876, 0.09020186960697174, 0.05557079240679741, 0.17879298329353333, 0.12402757257223129, 0.9952995777130127, 0.04228438064455986, 0.01859196461737156, 0.0008226532954722643, 0.08127814531326294, 0.01661759614944458, 0.5230429768562317, 0.02961551956832409, 0.09147904813289642, 0.0628507137298584, 0.1331053078174591, 0.46780723333358765, 0.001439406885765493, 0.24110065400600433, 0.10363729298114777, 0.14034217596054077, 0.04534131661057472, 0.9930792450904846, 0.996227502822876, 0.9654596447944641, 0.033047519624233246, 0.9967054724693298, 0.9877325892448425, 0.06201539188623428, 0.9366462230682373, 0.9928888082504272, 0.015420000068843365, 0.006853333208709955, 0.13192667067050934, 0.0753866657614708, 0.7692866325378418, 0.9945981502532959, 0.10502077639102936, 0.890576183795929, 0.20777948200702667, 0.08993440121412277, 0.5768206715583801, 0.12404745072126389, 0.9896450638771057, 0.995698094367981, 0.9863567352294922, 0.9895016551017761, 0.9926663637161255, 0.9988718628883362, 0.08860990405082703, 0.03605891764163971, 0.00782674178481102, 0.28903040289878845, 0.06317298859357834, 0.2040543556213379, 0.21383777260780334, 0.0975547507405281, 0.020927656441926956, 0.0847570076584816, 0.050226375460624695, 0.33327293395996094, 0.15852700173854828, 0.028775528073310852, 0.17526912689208984, 0.14806316792964935, 0.9949048161506653, 0.9898266792297363, 0.004625358618795872, 0.9960576891899109, 0.9919793605804443, 0.9956376552581787, 0.0017621904844418168, 0.021804794669151306, 0.2512742877006531, 0.6697186827659607, 0.049839530140161514, 0.007268264889717102, 0.4449409544467926, 0.010657268576323986, 0.3130572736263275, 0.0839259922504425, 0.1465374380350113, 0.0315912626683712, 0.10935437679290771, 0.23936457931995392, 0.256375253200531, 0.20655827224254608, 0.0157956313341856, 0.10570923238992691, 0.007290291599929333, 0.027946118265390396, 0.9958018660545349, 0.9984906911849976, 0.0010422657942399383, 0.9906433820724487, 0.9922319650650024, 0.9935179948806763, 0.0015231354627758265, 0.24979421496391296, 0.14774414896965027, 0.5757452249526978, 0.024370167404413223, 0.9903407692909241, 0.0011539302067831159, 0.7477467656135559, 0.2504028379917145, 0.9970332980155945, 0.05732733756303787, 0.9401683807373047, 0.014485161751508713, 0.9849910140037537, 0.9961978197097778, 0.10542067140340805, 0.8653280138969421, 0.026355167850852013, 0.7859687209129333, 0.06607701629400253, 0.14258724451065063, 0.9929350018501282, 0.9934985041618347, 0.9157141447067261, 0.08262082189321518, 0.9969035983085632, 0.9981667995452881, 0.9965565800666809, 0.634198009967804, 0.36497363448143005, 0.9946039915084839, 0.9931397438049316, 0.1263817399740219, 0.37171098589897156, 0.03419740870594978, 0.3419741094112396, 0.0029736878350377083, 0.004460531752556562, 0.07880272716283798, 0.03865794092416763, 0.9895502328872681, 0.9948571920394897, 0.9940208196640015, 0.9928506016731262, 0.9882414937019348, 0.16941198706626892, 0.8293821811676025, 0.07017727196216583, 0.06683549284934998, 0.8588361144065857, 0.13527928292751312, 0.012410943396389484, 0.4567227065563202, 0.04219720512628555, 0.21967369318008423, 0.13403818011283875, 0.2900347113609314, 0.03399674594402313, 0.1880444884300232, 0.2762235403060913, 0.1880444884300232, 0.02337276190519333, 0.9973072409629822, 0.9957805275917053, 0.986966073513031, 0.9928502440452576, 0.7699964642524719, 0.038949236273765564, 0.0014980476116761565, 0.18725594878196716, 0.775375485420227, 0.17514091730117798, 0.0023197471164166927, 0.04697488248348236, 0.9875023365020752, 0.9968553781509399, 0.987126886844635, 0.994691789150238, 0.027783291414380074, 0.11634253710508347, 0.8552044630050659, 0.18178896605968475, 0.8158333897590637, 0.9531171321868896, 0.04198753833770752, 0.9922794103622437, 0.9941861629486084, 0.9982394576072693, 0.9880821704864502, 0.001215155702084303, 0.049821384251117706, 0.004860622808337212, 0.2162977159023285, 0.3536103069782257, 0.09356699138879776, 0.051036540418863297, 0.15797023475170135, 0.07047902792692184, 0.9967896938323975, 0.2875401973724365, 0.08201649785041809, 0.46025729179382324, 0.012543699704110622, 0.0009649000130593777, 0.010613899677991867, 0.1264019012451172, 0.019298000261187553, 0.6721161007881165, 0.2858424782752991, 0.04055872932076454, 0.001723793218843639, 0.9584290385246277, 0.03792345151305199, 0.998604416847229, 0.997907817363739, 0.9859300851821899, 0.005633885972201824, 0.9948337078094482, 0.9978236556053162, 0.9899829626083374, 0.9960117936134338, 0.07961516082286835, 0.006634596269577742, 0.35605669021606445, 0.2499031275510788, 0.033172983676195145, 0.1149996742606163, 0.1592303216457367, 0.04538557678461075, 0.0535447783768177, 0.043345775455236435, 0.24120648205280304, 0.044875625520944595, 0.025497514754533768, 0.026517415419220924, 0.050995029509067535, 0.09689055383205414, 0.3717537522315979, 0.04449773207306862, 0.25010794401168823, 0.0015344044659286737, 0.701222836971283, 0.7158852815628052, 0.28265580534935, 0.986741304397583, 0.9947823882102966, 0.09934593737125397, 0.0036794792395085096, 0.013491423800587654, 0.051512710750103, 0.007358958479017019, 0.824203372001648, 0.03230283781886101, 0.0024848338216543198, 0.022363504394888878, 0.9442368149757385, 0.1735910028219223, 0.006852276623249054, 0.021698875352740288, 0.7971481680870056, 0.012611056677997112, 0.09079960733652115, 0.011349950917065144, 0.6677554845809937, 0.054858095943927765, 0.14187438786029816, 0.02080824412405491, 0.9970159530639648, 0.03762973099946976, 0.9581108689308167, 0.6265889406204224, 0.3217619061470032, 0.050804510712623596, 0.206575408577919, 0.7930595874786377, 0.05813625827431679, 0.9398694634437561, 0.985656201839447, 0.9980682730674744, 0.007654442451894283, 0.0007654442451894283, 0.002296332735568285, 0.02372877113521099, 0.17758306860923767, 0.028321435675024986, 0.2732636034488678, 0.17834851145744324, 0.30770859122276306, 0.9933719038963318, 0.9951685070991516, 0.9935944080352783, 0.0019355734111741185, 0.19742849469184875, 0.06193834915757179, 0.030969174578785896, 0.704548716545105, 0.9976096749305725, 0.9965169429779053, 0.993797242641449, 0.010511638596653938, 0.04064499959349632, 0.0616682767868042, 0.011212414130568504, 0.4372841417789459, 0.025928707793354988, 0.117029570043087, 0.03784189745783806, 0.2571847438812256, 0.9848811626434326, 0.007295416202396154, 0.9966104626655579, 0.9947375655174255, 0.9926282167434692, 0.9994714260101318, 0.9984696507453918, 0.009807812981307507, 0.11033789813518524, 0.7846250534057617, 0.09072227030992508, 0.07610325515270233, 0.7060691118240356, 0.21421657502651215, 0.0014093195786699653, 0.9958741664886475, 0.9907858967781067, 0.9946703910827637, 0.9939980506896973, 0.9912757873535156, 0.9966166019439697, 0.9989616870880127, 0.9981086254119873, 0.995426595211029, 0.9898374080657959, 0.12666071951389313, 0.8162579536437988, 0.05629365146160126, 0.014664607122540474, 0.711899995803833, 0.2506314516067505, 0.0213303379714489, 0.9966683387756348, 0.9952108860015869, 0.04936329647898674, 0.0770067423582077, 0.000493632978759706, 0.5197955369949341, 0.12143371254205704, 0.04788239672780037, 0.10711835324764252, 0.0770067423582077, 0.025891929864883423, 0.9450554251670837, 0.025891929864883423, 0.16024810075759888, 0.048074427992105484, 0.7892218828201294, 0.999051570892334, 0.33803626894950867, 0.6444803476333618, 0.015796087682247162, 0.002635970013216138, 0.8118788003921509, 0.10016686469316483, 0.007907910272479057, 0.07380716502666473, 0.9931672811508179, 0.9978489279747009, 0.9960514903068542, 0.7175256013870239, 0.279037743806839, 0.9947985410690308, 0.9965714812278748, 0.09211678057909012, 0.010417968966066837, 0.0010966283734887838, 0.16778413951396942, 0.0005483141867443919, 0.0038381991907954216, 0.02577076479792595, 0.6985522508621216, 0.038773588836193085, 0.028433965519070625, 0.03618868440389633, 0.021971700713038445, 0.13829247653484344, 0.21066983044147491, 0.5247359275817871, 0.0034273986238986254, 0.30640941858291626, 0.0041128783486783504, 0.0020564391743391752, 0.6621733903884888, 0.0027419188991189003, 0.019193431362509727, 0.29579511284828186, 0.7032679319381714, 0.2821922302246094, 0.7158046960830688, 0.8598743677139282, 0.13943909108638763, 0.9962750673294067, 0.05901648849248886, 0.15715627372264862, 0.10874948650598526, 0.5099290013313293, 0.16511355340480804, 0.07183168828487396, 0.8619802594184875, 0.05237727239727974, 0.011971947737038136, 0.2392321527004242, 0.7599138617515564, 0.9975699186325073, 0.9944877028465271, 0.8881384134292603, 0.11087588220834732, 0.9948421716690063, 0.1427418440580368, 0.128101646900177, 0.004117553122341633, 0.11712151020765305, 0.02562033012509346, 0.1491469293832779, 0.43142807483673096, 0.0018300235969945788, 0.004413115791976452, 0.6090099811553955, 0.30744707584381104, 0.035304926335811615, 0.041189081966876984, 0.8618924617767334, 0.1349049061536789, 0.010555864311754704, 0.0008119895355775952, 0.02923162281513214, 0.6682673692703247, 0.023547695949673653, 0.16483387351036072, 0.1023106798529625, 0.9912576675415039, 0.9931540489196777, 0.7560137510299683, 0.05400098115205765, 0.0023478688672184944, 0.009391475468873978, 0.17843802273273468, 0.03857485204935074, 0.7148658633232117, 0.02380150370299816, 0.18630832433700562, 0.0352918840944767, 0.9906626343727112, 0.9989086985588074, 0.2210773080587387, 0.09092696011066437, 0.40293121337890625, 0.016045933589339256, 0.026743222028017044, 0.003565763123333454, 0.001782881561666727, 0.23534035682678223, 0.9936128854751587, 0.9859933257102966, 0.10640891641378403, 0.11739306151866913, 0.09336523711681366, 0.060412801802158356, 0.06933742016553879, 0.543715238571167, 0.009611127898097038, 0.45932531356811523, 0.0020369193516671658, 0.27702105045318604, 0.03768301010131836, 0.22304268181324005, 0.03994699567556381, 0.4926795959472656, 0.46771273016929626, 0.9006511569023132, 0.03335744887590408, 0.06414894014596939, 0.36603423953056335, 0.0009302013786509633, 0.00046510068932548165, 0.028371142223477364, 0.5878872871398926, 0.008371812291443348, 0.0074416110292077065, 0.9963176846504211, 0.48492056131362915, 0.044307462871074677, 0.004923051223158836, 0.14892230927944183, 0.1403069645166397, 0.1403069645166397, 0.03569212183356285, 0.9960172176361084, 0.0017334959702566266, 0.001981138251721859, 0.9952079653739929, 0.9931899905204773, 0.9954997301101685, 0.20796777307987213, 0.42414480447769165, 0.147766575217247, 0.19702211022377014, 0.02189134620130062, 0.8741918802261353, 0.02509641833603382, 0.052284203469753265, 0.002091368194669485, 0.0460100993514061, 0.24333389103412628, 0.7126206755638123, 0.04345248267054558, 0.9940820932388306, 0.994106113910675, 0.657368540763855, 0.002699665492400527, 0.0013498327462002635, 0.07829029858112335, 0.25916787981987, 0.12945669889450073, 0.1915959119796753, 0.043152231723070145, 0.020713072270154953, 0.005178268067538738, 0.6093095541000366, 0.02021133340895176, 0.03907524421811104, 0.05120204761624336, 0.7451245188713074, 0.14282676577568054, 0.14629648625850677, 0.8389655351638794, 0.0014928212622180581, 0.011942570097744465, 0.004751876462250948, 0.9931421279907227, 0.9962052702903748, 0.995084285736084, 0.99729323387146, 0.9971824884414673, 0.9915991425514221, 0.9935938715934753, 0.13868141174316406, 0.03538767248392105, 0.6255009770393372, 0.19989252090454102, 0.996452271938324, 0.9949367642402649, 0.9988833665847778, 0.9945775866508484, 0.9951244592666626, 0.9967284798622131, 0.996270477771759, 0.9951004981994629, 0.9936892986297607, 0.990922212600708, 0.2963724136352539, 0.005066195037215948, 0.22291257977485657, 0.3267695903778076, 0.11652248352766037, 0.03293026611208916, 0.7463694214820862, 0.24987150728702545, 0.4707513153553009, 0.5239666700363159, 0.7526559233665466, 0.24469061195850372, 0.11772574484348297, 0.4615384340286255, 0.42006686329841614, 0.9979041218757629, 0.99334716796875, 0.991651177406311, 0.9980155229568481, 0.9965787529945374, 0.9957411885261536, 0.9880903363227844, 0.19582799077033997, 0.007662834599614143, 0.0212856512516737, 0.2869305908679962, 0.0093656862154603, 0.011068538762629032, 0.1975308507680893, 0.1549595445394516, 0.1149425134062767, 0.9964756965637207, 0.9900248646736145, 0.9957650303840637, 0.37683773040771484, 0.22483594715595245, 0.3958379328250885, 0.9929975271224976, 0.9866734147071838, 0.5974353551864624, 0.02772529423236847, 0.0035774572752416134, 0.3702668249607086, 0.9956513047218323, 0.9888579845428467, 0.9888927340507507, 0.9911385178565979, 0.9940916299819946, 0.9951238036155701, 0.9936068058013916, 0.9929072260856628, 0.008119745180010796, 0.019719380885362625, 0.03943876177072525, 0.731937050819397, 0.13571573793888092, 0.010439672507345676, 0.05219836160540581, 0.0020600163843482733, 0.7333658337593079, 0.10712084919214249, 0.008240065537393093, 0.14832118153572083, 0.9170643091201782, 0.07974472641944885, 0.03637489676475525, 0.8972474336624146, 0.0640891045331955, 0.9991037249565125, 0.9983471632003784, 0.8149874210357666, 0.18204186856746674, 0.017379378899931908, 0.003658816684037447, 0.24971424043178558, 0.24879953265190125, 0.4774755835533142, 0.0018294083420187235, 0.0076445359736680984, 0.018763860687613487, 0.24184530973434448, 0.29883185029029846, 0.0006949577946215868, 0.4322637617588043, 0.020551485940814018, 0.9792783260345459, 0.8611977100372314, 0.010313744656741619, 0.041254978626966476, 0.07219621539115906, 0.015470617450773716, 0.9906280636787415, 0.9972470998764038, 0.9910937547683716, 0.13576708734035492, 0.01939529925584793, 0.8436955213546753, 0.0133443558588624, 0.9808101654052734, 0.9915258884429932, 0.9940991997718811, 0.0419134683907032, 0.7396494150161743, 0.10848191380500793, 0.10601641237735748, 0.9957534074783325, 0.006648052483797073, 0.0018131053075194359, 0.6152470707893372, 0.3759171664714813, 0.1636515110731125, 0.012423805892467499, 0.11695513874292374, 0.014137434773147106, 0.6644594073295593, 0.02784646302461624, 0.000841068453155458, 0.000841068453155458, 0.02102671191096306, 0.3355863094329834, 0.6400530934333801, 0.9972354769706726, 0.06591679155826569, 0.11025021225214005, 0.5250009894371033, 0.08108348399400711, 0.025083381682634354, 0.14991694688796997, 0.04316674917936325, 0.006952053867280483, 0.881365954875946, 0.09114915132522583, 0.013131657615303993, 0.007724504452198744, 0.14588098227977753, 0.38749638199806213, 0.02735268510878086, 0.3723004460334778, 0.06382293254137039, 0.0015195936430245638, 0.9932076334953308, 0.9947544932365417, 0.9962509274482727, 0.011341818608343601, 0.988594114780426, 0.999787449836731, 0.06231880933046341, 0.01092185266315937, 0.0019273858051747084, 0.902658998966217, 0.02184370532631874, 0.06987280398607254, 0.25723084807395935, 0.012985210865736008, 0.6201984286308289, 0.03957397863268852, 0.9898597598075867, 0.9946402907371521, 0.9938138127326965, 0.993829071521759, 0.8897665739059448, 0.0023476690985262394, 0.10799277573823929, 0.32075220346450806, 0.6767519116401672, 0.9852942824363708, 0.4307529926300049, 0.1194446012377739, 0.1984473317861557, 0.22007903456687927, 0.030096277594566345, 0.9889321327209473, 0.9950326085090637, 0.9914798140525818, 0.9967874884605408, 0.003916955087333918, 0.9949066042900085, 0.9893113374710083, 0.8415537476539612, 0.006032643374055624, 0.15232424437999725, 0.9972149729728699, 0.0018744642147794366, 0.9933432340621948, 0.9917781949043274, 0.998778760433197, 0.04669340327382088, 0.006670486181974411, 0.9455414414405823, 0.007638040464371443, 0.04048161581158638, 0.06797856092453003, 0.6034051775932312, 0.10158593952655792, 0.042009223252534866, 0.09318409115076065, 0.04353683069348335, 0.022442160174250603, 0.9768460392951965, 0.004825232084840536, 0.9939978122711182, 0.051135316491127014, 0.9485888481140137, 0.9949654936790466, 0.9975600242614746, 0.020975949242711067, 0.9439177513122559, 0.034085918217897415, 0.9991436004638672, 0.9994755983352661, 0.014878196641802788, 0.9819610118865967, 0.034387242048978806, 0.9259993433952332, 0.03807159140706062, 0.9929508566856384, 0.9936197400093079, 0.028223393484950066, 0.762031614780426, 0.06271865218877792, 0.14738883078098297, 0.0942268967628479, 0.0006240191869437695, 0.7051416635513306, 0.023712728172540665, 0.17597340047359467, 0.0007263465668074787, 0.16597019135951996, 0.02505895495414734, 0.8078789710998535, 0.008621125482022762, 0.024295898154377937, 0.02194468304514885, 0.5407796502113342, 0.02194468304514885, 0.07994133979082108, 0.30252310633659363, 0.07348834723234177, 0.8247025609016418, 0.10104647278785706, 0.005506456829607487, 0.9856557846069336, 0.008259685710072517, 0.9163044095039368, 0.08309057354927063, 0.2797212302684784, 0.7196894884109497, 0.11062360554933548, 0.8894494771957397, 0.9965251088142395, 0.9996382594108582, 0.9970594644546509, 0.9995031356811523, 0.9987972974777222, 0.9993002414703369, 0.5825160145759583, 0.4166751503944397, 0.9983158111572266, 0.9969556331634521, 0.9993013739585876, 0.005647576414048672, 0.01004013605415821, 0.3306970000267029, 0.06212334334850311, 0.08973371982574463, 0.11420655250549316, 0.3878002464771271, 0.9935488700866699, 0.9961270093917847, 0.9915975332260132, 0.9907675981521606], \"Term\": [\"\\n     \", \"....\", \"....\", \"....\", \"....\", \"....\", \"....\", \"....\", \"....\", \"....\", \".......\", \"aberrant\", \"accidents\", \"achat\", \"achat\", \"achat\", \"achat\", \"achat\", \"adopter\", \"agir\", \"agir\", \"agir\", \"agir\", \"agir\", \"agir\", \"agricole\", \"agricole\", \"agricoles\", \"agricoles\", \"agriculteurs\", \"agriculteurs\", \"agriculture\", \"agriculture_biologique\", \"aidant\", \"aidant\", \"aider\", \"aider\", \"aider\", \"aider\", \"aider\", \"aider\", \"aider\", \"aides\", \"aides\", \"aides\", \"aides\", \"aides\", \"aille\", \"alimentaire\", \"alimentaire\", \"alimentaires\", \"alimentation\", \"alimentation\", \"aliments\", \"aliments\", \"aliments\", \"aller_travail\", \"amende\", \"animal\", \"animale\", \"animales\", \"animaux\", \"annon\\u00e7ant\", \"ann\\u00e9es\", \"ann\\u00e9es\", \"ann\\u00e9es\", \"ann\\u00e9es\", \"applique\", \"apporter\", \"apprendre\", \"arbres\", \"arbres\", \"arr\\u00eater\", \"arr\\u00eater\", \"arr\\u00eater\", \"arr\\u00eater\", \"arr\\u00eater\", \"arr\\u00eater\", \"arr\\u00eater\", \"arr\\u00eatons\", \"arr\\u00eatons\", \"arr\\u00eat\\u00e9\", \"aspects\", \"atteint\", \"attention\", \"attention\", \"attention\", \"attention\", \"attention\", \"augmentation\", \"augmentation\", \"augmentation\", \"augmentation\", \"augmentation\", \"automobile\", \"automobiles\", \"avion\", \"avions\", \"avis\", \"avis\", \"a\\u00e9rien\", \"a\\u00e9rien\", \"banques\", \"bateaux\", \"batteries\", \"batteries\", \"biodiversit\\u00e9\", \"biodiversit\\u00e9\", \"biodiversit\\u00e9\", \"biodiversit\\u00e9\", \"biologique\", \"bornes\", \"bouteilles\", \"budget\", \"budget\", \"budget\", \"budget\", \"b\\u00e9n\\u00e9fices\", \"b\\u00e9n\\u00e9fices\", \"b\\u00e9tonner\", \"b\\u00eate\", \"camion\", \"camions\", \"camions\", \"campagnes\", \"campagnes\", \"campagnes\", \"campagnes\", \"cantines\", \"cantines\", \"carburant\", \"carburants\", \"carburants\", \"catastrophe\", \"cause\", \"cause\", \"cause\", \"cause\", \"causes\", \"causes\", \"centrales\", \"centrales_nucl\\u00e9aires\", \"centre\", \"centre\", \"centres\", \"chaleur\", \"change\", \"changement\", \"changement\", \"changement\", \"changement\", \"changement\", \"changement_climatique\", \"changer\", \"changer\", \"changer\", \"changer\", \"changer\", \"changer\", \"changer_mentalit\\u00e9s\", \"changer_v\\u00e9hicule\", \"charbon\", \"chasse\", \"chasse\", \"chasseurs\", \"chauffage\", \"chauffage\", \"chauffage\", \"chauffage\", \"chauffage\", \"chauffage\", \"chimiques\", \"choisit\", \"choix\", \"choix\", \"choix\", \"choix\", \"choix\", \"choix\", \"circuit\", \"circuits\", \"circuits_courts\", \"circulation\", \"circulation\", \"circulation\", \"citoyens\", \"citoyens\", \"citoyens\", \"citoyens\", \"citoyens\", \"citoyens\", \"civilisation\", \"classes\", \"classes\", \"client\", \"climatique\", \"combustibles\", \"commerces\", \"commerciales\", \"commer\\u00e7ants\", \"communes\", \"communes\", \"communes\", \"compl\\u00e8te\", \"compte\", \"compte\", \"compte\", \"compte\", \"compte\", \"compteur\", \"concertation\", \"condamne\", \"conditions\", \"conditions\", \"conditions\", \"conditions\", \"conditions\", \"conditions\", \"conditions\", \"conditions_circulation\", \"conducteurs\", \"confort\", \"conscience\", \"consigne\", \"consommation\", \"consommation\", \"consommation\", \"consommation\", \"consommation\", \"consommation\", \"consommation\", \"consommation\", \"consommation\", \"consommation_\\u00e9nergie\", \"consommation_\\u00e9nergie\", \"constructeurs\", \"constructeurs_automobiles\", \"construction\", \"construction\", \"courage\", \"courant\", \"courants\", \"court_terme\", \"courts\", \"couts\", \"co\\u00fbt\", \"co\\u00fbt\", \"co\\u00fbt\", \"co\\u00fbt\", \"co\\u00fbt\", \"co\\u00fbt\", \"crise\", \"croissance\", \"croissance\", \"cr\\u00e9er\", \"cr\\u00e9er\", \"cr\\u00e9er\", \"cr\\u00e9er\", \"cr\\u00e9er\", \"cr\\u00e9er\", \"cultures\", \"devraient\", \"devraient\", \"devraient\", \"devraient\", \"devraient\", \"devraient\", \"diesel\", \"disparaissent\", \"dispose\", \"distribution\", \"distribution\", \"distribution\", \"distribution\", \"distribution\", \"dommages\", \"donn\\u00e9e\", \"dur\\u00e9e\", \"dur\\u00e9e\", \"dur\\u00e9e\", \"dur\\u00e9e\", \"dur\\u00e9e\", \"d\\u00e9cemment\", \"d\\u00e9chets\", \"d\\u00e9chets\", \"d\\u00e9chets\", \"d\\u00e9chets\", \"d\\u00e9chets\", \"d\\u00e9chets\", \"d\\u00e9cisions\", \"d\\u00e9cisions\", \"d\\u00e9cisions\", \"d\\u00e9lais\", \"d\\u00e9marche\", \"d\\u00e9mographie\", \"d\\u00e9mographique\", \"d\\u00e9passement\", \"d\\u00e9pendance\", \"d\\u00e9pense\", \"d\\u00e9pense\", \"d\\u00e9penses\", \"d\\u00e9penses\", \"d\\u00e9penses\", \"d\\u00e9penses_publiques\", \"d\\u00e9sordre\", \"d\\u00e9truisent\", \"d\\u00e9veloppement\", \"d\\u00e9veloppement\", \"d\\u00e9veloppement\", \"d\\u00e9veloppement\", \"d\\u00e9veloppement\", \"d\\u00e9veloppement\", \"d\\u00e9veloppement\", \"d\\u00e9velopper\", \"d\\u00e9velopper\", \"d\\u00e9velopper\", \"d\\u00e9velopper\", \"d\\u00e9velopper\", \"ecologique\", \"effort\", \"effort\", \"effort\", \"electrique\", \"emballage\", \"emballage\", \"emballages\", \"emballages\", \"emballages\", \"employ\\u00e9s\", \"energie\", \"enfants\", \"enfants\", \"enfants\", \"enfants\", \"enfants\", \"enfants\", \"enjeux\", \"entreprise\", \"entreprise\", \"entreprise\", \"entreprise\", \"entreprise\", \"entreprises\", \"entreprises\", \"entreprises\", \"entreprises\", \"entreprises\", \"entreprises\", \"entreprises\", \"entreprises_polluantes\", \"entretenant\", \"entretien\", \"entretien\", \"entretien\", \"entretien\", \"entretien\", \"entretien\", \"environnement\", \"environnement\", \"environnement\", \"environnement\", \"environnement\", \"environnement\", \"environnement\", \"eolien\", \"espaces\", \"esp\\u00e8ces\", \"esp\\u00e8ces\", \"essais\", \"essence\", \"etat\", \"etat\", \"etat\", \"etat\", \"etat\", \"etat\", \"etat\", \"europ\\u00e9en\", \"europ\\u00e9en\", \"europ\\u00e9en\", \"europ\\u00e9en\", \"excellent\", \"exemple\", \"exemple\", \"exemple\", \"exemple\", \"exemple\", \"exemple\", \"exemple\", \"exemple\", \"existait\", \"exp\\u00e9rimentation\", \"face\", \"facteur\", \"faibles_revenus\", \"faire\", \"faire\", \"faire\", \"faire\", \"faire\", \"faire\", \"faire\", \"faire\", \"faire\", \"faire\", \"faire_payer\", \"faire_payer\", \"faire_sorte\", \"fasse\", \"faudrait\", \"faudrait\", \"faudrait\", \"faudrait\", \"faudrait\", \"faudrait\", \"faudrait\", \"faudrait\", \"faune\", \"faut\", \"faut\", \"faut\", \"faut\", \"faut\", \"faut\", \"faut\", \"faut\", \"faut\", \"faut\", \"favoriser\", \"favoriser\", \"favoriser\", \"favoriser\", \"favoriser\", \"favoriser\", \"fa\\u00eetes\", \"fen\\u00eatre\", \"ferroutage\", \"ferroutage\", \"ferroviaire\", \"feux\", \"financement\", \"financement\", \"financement_transition\", \"financer\", \"financer\", \"financer\", \"financer\", \"financer\", \"financer_transition\", \"financi\\u00e8re\", \"financi\\u00e8re\", \"financi\\u00e8rement\", \"financi\\u00e8rement\", \"financi\\u00e8rement\", \"financi\\u00e8rement\", \"fiscales\", \"fiscalit\\u00e9\", \"flore\", \"focaliser\", \"forcement\", \"fossiles\", \"france\", \"france\", \"france\", \"france\", \"france\", \"france\", \"france\", \"france\", \"fran\\u00e7ais\", \"fran\\u00e7ais\", \"fran\\u00e7ais\", \"fran\\u00e7ais\", \"fran\\u00e7ais\", \"fran\\u00e7ais\", \"fran\\u00e7ais\", \"fran\\u00e7ais\", \"fret\", \"fruits\", \"fruits\", \"futures\", \"gilets\", \"glyphosate\", \"glyphosate\", \"gouvernement\", \"gouvernement\", \"gouvernement\", \"gouvernement\", \"gouvernement\", \"grand\", \"grand\", \"grand\", \"grand\", \"grand\", \"grande\", \"grande\", \"grande\", \"grande\", \"grande\", \"grande\", \"grande\", \"grande\", \"grande\", \"grande_distribution\", \"grandes\", \"grandes\", \"grandes_entreprises\", \"grandes_surfaces\", \"grandes_villes\", \"grands\", \"grands\", \"grands\", \"grands\", \"grands\", \"grands_groupes\", \"gros\", \"gros\", \"gros\", \"gros_pollueurs\", \"grosses\", \"grosses\", \"grosses_entreprises\", \"grosses_entreprises\", \"groupe\", \"groupes\", \"groupes\", \"groupes\", \"heure\", \"heure\", \"heure\", \"huile\", \"huile_palme\", \"hulot\", \"hulot\", \"hybride\", \"hybrides\", \"hydraulique\", \"hydrog\\u00e8ne\", \"hydrog\\u00e8ne\", \"illusoire\", \"immeubles\", \"impact\", \"impact\", \"impact\", \"impact\", \"impact\", \"impact\", \"impact\", \"impact\", \"impact_\\u00e9cologique\", \"importation\", \"import\\u00e9s\", \"imposant\", \"impos\\u00e9es\", \"imp\\u00f4t\", \"imp\\u00f4t\", \"imp\\u00f4ts\", \"imp\\u00f4ts\", \"imp\\u00f4ts\", \"inciter\", \"inciter\", \"inciter\", \"inciter\", \"inciter\", \"inciter\", \"industriels\", \"industriels\", \"industriels\", \"industriels\", \"industriels\", \"industriels\", \"inscrire\", \"insiste\", \"instant\", \"intensive\", \"interdiction\", \"interdiction\", \"interdiction\", \"interdiction\", \"interdire\", \"interdire\", \"interdire\", \"interdire\", \"interm\\u00e9diaires\", \"int\\u00e9r\\u00eats_\\u00e9conomiques\", \"inutilement\", \"investir_massivement\", \"investissement\", \"investissement\", \"investissement\", \"investissements\", \"investissements\", \"issus\", \"issus\", \"jaunes\", \"jet\\u00e9\", \"k\\u00e9ros\\u00e8ne\", \"lendemain\", \"lieu\", \"lieu\", \"lieu\", \"lieu\", \"lieu\", \"lieu\", \"lieu\", \"lieu\", \"lieu\", \"limitation\", \"limiter\", \"limiter\", \"limiter\", \"limiter\", \"limiter\", \"limiter\", \"limiter\", \"limiter\", \"logements\", \"logements\", \"logements\", \"long\", \"long\", \"long\", \"long_terme\", \"lourds\", \"l\\u00e9gumes\", \"l\\u00e9gumes\", \"majorit\\u00e9_fran\\u00e7ais\", \"marge\", \"mauvaise\", \"mentalit\\u00e9s\", \"mesure\", \"mesure\", \"mesure\", \"mesure\", \"mesure\", \"mesure\", \"mesure\", \"mettre\", \"mettre\", \"mettre\", \"mettre\", \"mettre\", \"mettre\", \"mettre\", \"mettre\", \"mettre\", \"mettre\", \"mettre_place\", \"mettre_place\", \"mettre_place\", \"mettre_place\", \"milliards\", \"milliards\", \"ministres\", \"minutes\", \"mise\", \"mise\", \"mise\", \"mise\", \"mise\", \"mise\", \"mise_place\", \"mise_place\", \"mise_place\", \"mise_place\", \"mod\\u00e8le\", \"mod\\u00e8le\", \"mod\\u00e8le\", \"mod\\u00e8le\", \"monde\", \"monde\", \"monde\", \"monde\", \"monde\", \"monde\", \"monde\", \"monde_agricole\", \"mondial\", \"mondial\", \"mondiale\", \"mondiale\", \"mondiale\", \"montrer\", \"montrer\", \"montrer_exemple\", \"montrer_exemple\", \"morts\", \"moteurs\", \"moyens\", \"moyens\", \"moyens\", \"moyens\", \"moyens\", \"moyens\", \"moyens\", \"moyens\", \"moyens\", \"mutation\", \"m\\u00e9nag\\u00e8res\", \"m\\u00e9thode\", \"national\", \"national\", \"national\", \"national\", \"national\", \"nette\", \"nicolas\", \"nicolas_hulot\", \"niveau\", \"niveau\", \"niveau\", \"niveau\", \"niveau\", \"niveau\", \"niveau\", \"niveau\", \"niveau\", \"niveau_europ\\u00e9en\", \"niveau_europ\\u00e9en\", \"niveau_mondial\", \"nocifs\", \"nucleaire\", \"nucl\\u00e9aire\", \"nucl\\u00e9aires\", \"nuit\", \"nuit\", \"nuit\", \"nuit\", \"obliger\", \"obliger\", \"obliger\", \"obliger\", \"obsolescence\", \"obsolescence_programm\\u00e9e\", \"oeuvre\", \"ordures\", \"ordures_m\\u00e9nag\\u00e8res\", \"palme\", \"panneaux\", \"panneaux_solaires\", \"partage\", \"particules_fines\", \"partout\", \"partout\", \"partout\", \"payer\", \"payer\", \"payer\", \"payer\", \"payeur\", \"payeurs\", \"pays\", \"pays\", \"pays\", \"pays\", \"pays\", \"pays\", \"pays\", \"pays\", \"penser\", \"penser\", \"penser\", \"permis\", \"permis\", \"permis\", \"pesticides\", \"petit\", \"petit\", \"petit\", \"petites\", \"petites\", \"petites\", \"petites\", \"petites\", \"peuple\", \"photovolta\\u00efque\", \"photovolta\\u00efques\", \"pile\", \"pile\", \"pile_combustible\", \"piles\", \"place\", \"place\", \"place\", \"place\", \"place\", \"place\", \"place\", \"place\", \"plan\", \"plan\", \"plan\", \"plan\", \"plan\", \"plan\", \"plan\", \"plan\\u00e8te\", \"plan\\u00e8te\", \"plan\\u00e8te\", \"plan\\u00e8te\", \"plan\\u00e8te\", \"plan\\u00e8te\", \"plan\\u00e8te\", \"plastique\", \"plastique\", \"plastiques\", \"plastiques\", \"poids\", \"poids\", \"poids_lourds\", \"politique\", \"politique\", \"politique\", \"politique\", \"politique\", \"politiques\", \"politiques\", \"politiques\", \"politiques\", \"polluent\", \"polluent\", \"pollueur\", \"pollueur_payeur\", \"pollueurs\", \"pollueurs\", \"pollueurs_payeurs\", \"pollution\", \"pollution\", \"pollution\", \"pollution\", \"pollution\", \"pollution\", \"pollution\", \"pollution\", \"population\", \"population\", \"population\", \"population\", \"population\", \"pourront\", \"pourront\", \"pouvoir\", \"pouvoir\", \"pouvoir\", \"pouvoir\", \"pouvoir\", \"pouvoir\", \"pouvoir\", \"pouvoirs\", \"pouvons\", \"pratiques\", \"pratiques\", \"pratiques\", \"pratiques\", \"pratiques\", \"prendre\", \"prendre\", \"prendre\", \"prendre\", \"prendre\", \"prendre_conscience\", \"prime\", \"principe\", \"principe\", \"principe\", \"principe\", \"principe\", \"principe\", \"principe\", \"principe\", \"principe_pollueur\", \"privil\\u00e9gie\", \"prix\", \"prix\", \"prix\", \"prix\", \"prix\", \"prix\", \"prix\", \"probl\\u00e8me\", \"probl\\u00e8me\", \"probl\\u00e8me\", \"probl\\u00e8me\", \"probl\\u00e8me\", \"probl\\u00e8mes\", \"probl\\u00e8mes\", \"probl\\u00e8mes\", \"producteurs\", \"producteurs\", \"producteurs\", \"production\", \"production\", \"production\", \"production\", \"production\", \"production\", \"production\", \"production_\\u00e9lectricit\\u00e9\", \"produit\", \"produit\", \"produit\", \"produit\", \"produit\", \"produit\", \"produit\", \"produits\", \"produits\", \"produits\", \"produits_chimiques\", \"produits_issus\", \"programm\\u00e9e\", \"promouvoir\", \"promouvoir\", \"promouvoir\", \"promouvoir\", \"promouvoir\", \"proposition\", \"proposition\", \"proposition\", \"proposition\", \"proposition\", \"protection\", \"protection\", \"protection\", \"protection_environnement\", \"publicitaires\", \"publics\", \"publics\", \"publics\", \"publics\", \"publics\", \"publiques\", \"publiques\", \"publiques\", \"publiques\", \"publiques\", \"publiques\", \"p\\u00e9trole\", \"p\\u00e9trole\", \"p\\u00e9trole\", \"p\\u00e9trole\", \"p\\u00e9trole\", \"question\", \"question\", \"question\", \"question\", \"questionnaire\", \"questionnaire\", \"questions\", \"radars\", \"rail\", \"raisonn\\u00e9e\", \"rapporter\", \"recharge\", \"recherche\", \"recherche\", \"recherche\", \"recherche\", \"recycl\\u00e9\", \"renouvelable\", \"renouvelables\", \"reparation\", \"repas\", \"respecte\", \"respectueuses\", \"respirer\", \"responsabiliser\", \"retarder\", \"revenir\", \"revenir\", \"revenir\", \"revenir\", \"revenir\", \"revenir\", \"risques\", \"risques\", \"rouler\", \"rouler\", \"route\", \"route\", \"routes\", \"routes\", \"routes\", \"routier\", \"routi\\u00e8re\", \"rurales\", \"r\\u00e9chauffement\", \"r\\u00e9chauffement_climatique\", \"r\\u00e9cup\\u00e9ration\", \"r\\u00e9ductions\", \"r\\u00e9duire\", \"r\\u00e9duire\", \"r\\u00e9duire\", \"r\\u00e9duire\", \"r\\u00e9duire\", \"r\\u00e9duire\", \"r\\u00e9duire\", \"r\\u00e9duire\", \"r\\u00e9duire\", \"r\\u00e9parateurs\", \"r\\u00e9pondent\", \"r\\u00e9ponse\", \"r\\u00e9sultats\", \"r\\u00e9sultats\", \"r\\u00e9sultats\", \"r\\u00e9union\", \"sanction\", \"sant\\u00e9\", \"sant\\u00e9\", \"sant\\u00e9\", \"sant\\u00e9\", \"sauver\", \"sauver_plan\\u00e8te\", \"scandaleux\", \"science\", \"scientifique\", \"scientifiques\", \"scolaires\", \"secondaire\", \"sens\", \"sens\", \"sens\", \"sens\", \"sens\", \"sens\", \"sens\", \"services\", \"services\", \"services\", \"services\", \"services\", \"services_publics\", \"services_publics\", \"soci\\u00e9t\\u00e9\", \"soci\\u00e9t\\u00e9\", \"soci\\u00e9t\\u00e9\", \"solaire\", \"solaires\", \"sols\", \"sols\", \"solution\", \"solution\", \"solution\", \"solution\", \"solution\", \"solution\", \"solutions\", \"solutions\", \"solutions\", \"solutions\", \"solutions\", \"solutions\", \"sommes\", \"sommes\", \"sorte\", \"sorte\", \"sorte\", \"sorte\", \"sorte\", \"souffrent\", \"stockage\", \"style\", \"sujet\", \"sujet\", \"sujet\", \"surfaces\", \"surfaces\", \"surpopulation\", \"s\\u00e9cheresse\", \"s\\u00e9curit\\u00e9\", \"s\\u00e9curit\\u00e9\", \"s\\u00e9curit\\u00e9\", \"s\\u00e9curit\\u00e9\", \"tard\", \"taxe\", \"taxe\", \"taxe\", \"taxe\", \"taxer\", \"taxer\", \"taxer\", \"taxer\", \"taxer\", \"taxer\", \"taxes\", \"taxes\", \"taxes\", \"taxes\", \"taxes\", \"tax\\u00e9es\", \"temps\", \"temps\", \"temps\", \"temps\", \"temps\", \"temps\", \"temps\", \"terme\", \"terme\", \"terme\", \"terme\", \"terme\", \"terre\", \"terre\", \"terre\", \"terre\", \"terre\", \"terre\", \"trains\", \"traitement_d\\u00e9chets\", \"traiter\", \"transition\", \"transition\", \"transition_\\u00e9cologique\", \"transport\", \"transport\", \"transport\", \"transport\", \"transport\", \"transports\", \"transports\", \"transports\", \"transports\", \"transports\", \"traverser\", \"t\\u00e9l\\u00e9travail\", \"urbain\", \"urbanisation\", \"urgence\", \"urgence\", \"urgence\", \"urgent\", \"urgent\", \"urgent_agir\", \"utilisation\", \"utilisation\", \"utilisation\", \"utilisation\", \"utilisation\", \"utopique\", \"valider\", \"veiller\", \"vent\", \"verre\", \"verre\", \"vertueuse\", \"ville\", \"ville\", \"ville\", \"villes\", \"villes\", \"vision\", \"visuelle\", \"vitesse\", \"vivre\", \"vivre\", \"vivre\", \"voir\", \"voir\", \"voir\", \"voir\", \"voir\", \"voir\", \"voir\", \"voir\", \"voiture\", \"voiture\", \"voiture_\\u00e9lectrique\", \"voiture_\\u00e9lectrique\", \"voitures\", \"voitures\", \"voitures_hybrides\", \"voitures_\\u00e9lectriques\", \"volont\\u00e9\", \"volont\\u00e9\", \"volont\\u00e9\", \"v\\u00e9hicule\", \"v\\u00e9hicules\", \"v\\u00e9hicules_\\u00e9lectriques\", \"v\\u00e9hicules_\\u00e9lectriques\", \"zones\", \"zones\", \"zones\", \"zones_rurales\", \"\\u00e9clairages\", \"\\u00e9cole\", \"\\u00e9cole\", \"\\u00e9cole\", \"\\u00e9cole\", \"\\u00e9cologie\", \"\\u00e9cologie\", \"\\u00e9cologie\", \"\\u00e9cologie\", \"\\u00e9cologie\", \"\\u00e9cologique\", \"\\u00e9cologique\", \"\\u00e9cologique\", \"\\u00e9cologique\", \"\\u00e9conomie\", \"\\u00e9conomie\", \"\\u00e9conomie\", \"\\u00e9conomie\", \"\\u00e9conomie\", \"\\u00e9conomie\", \"\\u00e9conomie\", \"\\u00e9conomique\", \"\\u00e9conomique\", \"\\u00e9conomique\", \"\\u00e9conomiques\", \"\\u00e9conomiques\", \"\\u00e9conomiques\", \"\\u00e9lectricit\\u00e9\", \"\\u00e9lectricit\\u00e9\", \"\\u00e9lectrique\", \"\\u00e9lectrique\", \"\\u00e9lectriques\", \"\\u00e9lectriques\", \"\\u00e9levage\", \"\\u00e9nergie\", \"\\u00e9nergie_nucl\\u00e9aire\", \"\\u00e9nergies\", \"\\u00e9nergies_fossiles\", \"\\u00e9nergies_renouvelables\", \"\\u00e9nerg\\u00e9tique\", \"\\u00e9nerg\\u00e9tique\", \"\\u00e9olien\", \"\\u00e9olienne\", \"\\u00e9oliennes\", \"\\u00e9tat\", \"\\u00e9tat\", \"\\u00e9tat\", \"\\u00e9tat\", \"\\u00e9tat\", \"\\u00e9tat\", \"\\u00e9tat\", \"\\u00e9tats\", \"\\u00e9teindre\", \"\\u00e9viterait\", \"\\u00e9volution\"]}, \"R\": 30, \"lambda.step\": 0.01, \"plot.opts\": {\"xlab\": \"PC1\", \"ylab\": \"PC2\"}, \"topic.order\": [1, 2, 3, 4, 5, 6, 7, 8, 9, 10]};\n",
       "\n",
       "function LDAvis_load_lib(url, callback){\n",
       "  var s = document.createElement('script');\n",
       "  s.src = url;\n",
       "  s.async = true;\n",
       "  s.onreadystatechange = s.onload = callback;\n",
       "  s.onerror = function(){console.warn(\"failed to load library \" + url);};\n",
       "  document.getElementsByTagName(\"head\")[0].appendChild(s);\n",
       "}\n",
       "\n",
       "if(typeof(LDAvis) !== \"undefined\"){\n",
       "   // already loaded: just create the visualization\n",
       "   !function(LDAvis){\n",
       "       new LDAvis(\"#\" + \"ldavis_el84652237831841998213043\", ldavis_el84652237831841998213043_data);\n",
       "   }(LDAvis);\n",
       "}else if(typeof define === \"function\" && define.amd){\n",
       "   // require.js is available: use it to load d3/LDAvis\n",
       "   require.config({paths: {d3: \"https://cdnjs.cloudflare.com/ajax/libs/d3/3.5.5/d3.min\"}});\n",
       "   require([\"d3\"], function(d3){\n",
       "      window.d3 = d3;\n",
       "      LDAvis_load_lib(\"https://cdn.rawgit.com/bmabey/pyLDAvis/files/ldavis.v1.0.0.js\", function(){\n",
       "        new LDAvis(\"#\" + \"ldavis_el84652237831841998213043\", ldavis_el84652237831841998213043_data);\n",
       "      });\n",
       "    });\n",
       "}else{\n",
       "    // require.js not available: dynamically load d3 & LDAvis\n",
       "    LDAvis_load_lib(\"https://cdnjs.cloudflare.com/ajax/libs/d3/3.5.5/d3.min.js\", function(){\n",
       "         LDAvis_load_lib(\"https://cdn.rawgit.com/bmabey/pyLDAvis/files/ldavis.v1.0.0.js\", function(){\n",
       "                 new LDAvis(\"#\" + \"ldavis_el84652237831841998213043\", ldavis_el84652237831841998213043_data);\n",
       "            })\n",
       "         });\n",
       "}\n",
       "</script>"
      ],
      "text/plain": [
       "PreparedData(topic_coordinates=              x         y  topics  cluster       Freq\n",
       "topic                                                \n",
       "0     -0.065714 -0.212035       1        1  10.444253\n",
       "1      0.029440  0.209894       2        1   8.859770\n",
       "2      0.271206 -0.132002       3        1   2.781511\n",
       "3     -0.104223 -0.138504       4        1  11.599562\n",
       "4      0.320040  0.015823       5        1   2.664208\n",
       "5     -0.069898  0.207534       6        1  18.510853\n",
       "6     -0.014816  0.147202       7        1   6.838125\n",
       "7     -0.137588 -0.124996       8        1  10.556173\n",
       "8     -0.105203 -0.054606       9        1  14.064396\n",
       "9     -0.123244  0.081689      10        1  13.681155, topic_info=     Category         Freq                   Term        Total  loglift  \\\n",
       "481   Default  4849.000000             transition  4849.000000  30.0000   \n",
       "572   Default  4038.000000               produits  4038.000000  29.0000   \n",
       "87    Default  5507.000000             écologique  5507.000000  28.0000   \n",
       "260   Default  3020.000000                énergie  3020.000000  27.0000   \n",
       "482   Default  2981.000000  transition_écologique  2981.000000  26.0000   \n",
       "696   Default  2485.000000              nucléaire  2485.000000  25.0000   \n",
       "486   Default  2236.000000               énergies  2236.000000  24.0000   \n",
       "445   Default  2450.000000                voiture  2450.000000  23.0000   \n",
       "164   Default  2001.000000              véhicules  2001.000000  22.0000   \n",
       "185   Default  6121.000000                  faire  6121.000000  21.0000   \n",
       "492   Default  1602.000000            agriculture  1602.000000  20.0000   \n",
       "800   Default  1740.000000               voitures  1740.000000  19.0000   \n",
       "715   Default  2150.000000             production  2150.000000  18.0000   \n",
       "450   Default  2109.000000             électrique  2109.000000  17.0000   \n",
       "327   Default  2256.000000          environnement  2256.000000  16.0000   \n",
       "832   Default  1724.000000              interdire  1724.000000  15.0000   \n",
       "114   Default  2470.000000            entreprises  2470.000000  14.0000   \n",
       "0     Default  1205.000000              centrales  1205.000000  13.0000   \n",
       "449   Default  1299.000000            électricité  1299.000000  12.0000   \n",
       "873   Default   687.000000                vitesse   687.000000  11.0000   \n",
       "273   Default  1100.000000                animaux  1100.000000  10.0000   \n",
       "669   Default  1093.000000          renouvelables  1093.000000   9.0000   \n",
       "838   Default  1556.000000              transport  1556.000000   8.0000   \n",
       "446   Default  1190.000000               véhicule  1190.000000   7.0000   \n",
       "485   Default  1066.000000                 villes  1066.000000   6.0000   \n",
       "263   Default   994.000000              éoliennes   994.000000   5.0000   \n",
       "685   Default   970.000000             pesticides   970.000000   4.0000   \n",
       "862   Default  1113.000000                 diesel  1113.000000   3.0000   \n",
       "1056  Default   963.000000           gouvernement   963.000000   2.0000   \n",
       "71    Default   690.000000             protection   690.000000   1.0000   \n",
       "...       ...          ...                    ...          ...      ...   \n",
       "333   Topic10   563.428589                  impôt   678.818542   1.8028   \n",
       "3605  Topic10   192.152618              bénéfices   205.434525   1.9223   \n",
       "144   Topic10  1274.454224                  place  1823.771973   1.6308   \n",
       "128   Topic10   368.051300        investissements   451.072479   1.7857   \n",
       "1446  Topic10   449.212891               financer   583.657593   1.7273   \n",
       "1066  Topic10   256.664490                 impôts   299.242188   1.8357   \n",
       "527   Topic10   212.121521             financière   238.048141   1.8738   \n",
       "255   Topic10   761.256836                  taxes  1188.963867   1.5433   \n",
       "600   Topic10   457.074127           mettre_place   651.718628   1.6344   \n",
       "114   Topic10  1265.806763            entreprises  2470.497559   1.3204   \n",
       "1695  Topic10   292.515289                dépense   374.023804   1.7433   \n",
       "653   Topic10   364.199036               national   516.642761   1.6395   \n",
       "101   Topic10   253.496994                 budget   315.779053   1.7695   \n",
       "306   Topic10   492.345490                  aides   807.726196   1.4941   \n",
       "521   Topic10   339.833649             entreprise   509.283142   1.5846   \n",
       "780   Topic10   621.678040              solutions  1438.936279   1.1499   \n",
       "458   Topic10   729.327026                 mettre  1960.975464   1.0001   \n",
       "169   Topic10   617.641113                   état  1593.603882   1.0413   \n",
       "1348  Topic10   493.789764                   etat  1062.580566   1.2228   \n",
       "1147  Topic10   353.056061              publiques   579.344299   1.4939   \n",
       "588   Topic10   621.916504                   taxe  1654.619873   1.0106   \n",
       "1613  Topic10   405.694275                   plan   773.722534   1.3435   \n",
       "2195  Topic10   457.998138                   coût  1034.987061   1.1739   \n",
       "280   Topic10   809.170532                   faut  6077.894531  -0.0273   \n",
       "369   Topic10   401.610962            énergétique   964.780334   1.1127   \n",
       "266   Topic10   420.467712                  aider  1132.823242   0.9981   \n",
       "185   Topic10   657.416931                  faire  6121.792480  -0.2421   \n",
       "1094  Topic10   402.024231                 moyens  1306.430908   0.8106   \n",
       "904   Topic10   385.556641               économie  1275.935547   0.7924   \n",
       "393   Topic10   383.041321               citoyens  1511.047363   0.6167   \n",
       "\n",
       "      logprob  \n",
       "481   30.0000  \n",
       "572   29.0000  \n",
       "87    28.0000  \n",
       "260   27.0000  \n",
       "482   26.0000  \n",
       "696   25.0000  \n",
       "486   24.0000  \n",
       "445   23.0000  \n",
       "164   22.0000  \n",
       "185   21.0000  \n",
       "492   20.0000  \n",
       "800   19.0000  \n",
       "715   18.0000  \n",
       "450   17.0000  \n",
       "327   16.0000  \n",
       "832   15.0000  \n",
       "114   14.0000  \n",
       "0     13.0000  \n",
       "449   12.0000  \n",
       "873   11.0000  \n",
       "273   10.0000  \n",
       "669    9.0000  \n",
       "838    8.0000  \n",
       "446    7.0000  \n",
       "485    6.0000  \n",
       "263    5.0000  \n",
       "685    4.0000  \n",
       "862    3.0000  \n",
       "1056   2.0000  \n",
       "71     1.0000  \n",
       "...       ...  \n",
       "333   -5.1984  \n",
       "3605  -6.2742  \n",
       "144   -4.3822  \n",
       "128   -5.6242  \n",
       "1446  -5.4250  \n",
       "1066  -5.9847  \n",
       "527   -6.1753  \n",
       "255   -4.8975  \n",
       "600   -5.4076  \n",
       "114   -4.3890  \n",
       "1695  -5.8539  \n",
       "653   -5.6347  \n",
       "101   -5.9971  \n",
       "306   -5.3333  \n",
       "521   -5.7040  \n",
       "780   -5.1000  \n",
       "458   -4.9403  \n",
       "169   -5.1065  \n",
       "1348  -5.3303  \n",
       "1147  -5.6658  \n",
       "588   -5.0996  \n",
       "1613  -5.5268  \n",
       "2195  -5.4056  \n",
       "280   -4.8364  \n",
       "369   -5.5370  \n",
       "266   -5.4911  \n",
       "185   -5.0441  \n",
       "1094  -5.5359  \n",
       "904   -5.5778  \n",
       "393   -5.5843  \n",
       "\n",
       "[595 rows x 6 columns], token_table=       Topic      Freq                    Term\n",
       "term                                          \n",
       "11943      2  0.993437                 \\n     \n",
       "679        1  0.037924                    ....\n",
       "679        2  0.056184                    ....\n",
       "679        3  0.022474                    ....\n",
       "679        4  0.126414                    ....\n",
       "679        6  0.245804                    ....\n",
       "679        7  0.306202                    ....\n",
       "679        8  0.081467                    ....\n",
       "679        9  0.103940                    ....\n",
       "679       10  0.018260                    ....\n",
       "7545       7  0.988584                 .......\n",
       "5067      10  0.994505                aberrant\n",
       "6448       5  0.993888               accidents\n",
       "303        1  0.034461                   achat\n",
       "303        4  0.048501                   achat\n",
       "303        6  0.103384                   achat\n",
       "303        9  0.746661                   achat\n",
       "303       10  0.066370                   achat\n",
       "9575       5  0.991234                 adopter\n",
       "951        1  0.036421                    agir\n",
       "951        2  0.017252                    agir\n",
       "951        3  0.245363                    agir\n",
       "951        4  0.011501                    agir\n",
       "951        6  0.657497                    agir\n",
       "951       10  0.032587                    agir\n",
       "491        1  0.966079                agricole\n",
       "491        4  0.032357                agricole\n",
       "1429       1  0.653138               agricoles\n",
       "1429       4  0.344872               agricoles\n",
       "265        1  0.991924            agriculteurs\n",
       "...      ...       ...                     ...\n",
       "1626       6  0.985656             économiques\n",
       "1626      10  0.008260             économiques\n",
       "449        8  0.916304             électricité\n",
       "449        9  0.083091             électricité\n",
       "450        8  0.279721              électrique\n",
       "450        9  0.719689              électrique\n",
       "167        8  0.110624             électriques\n",
       "167        9  0.889449             électriques\n",
       "3656       1  0.996525                 élevage\n",
       "260        8  0.999638                 énergie\n",
       "3833       8  0.997059       énergie_nucléaire\n",
       "486        8  0.999503                énergies\n",
       "487        8  0.998797       énergies_fossiles\n",
       "1485       8  0.999300  énergies_renouvelables\n",
       "369        8  0.582516             énergétique\n",
       "369       10  0.416675             énergétique\n",
       "785        8  0.998316                  éolien\n",
       "2135       8  0.996956                éolienne\n",
       "263        8  0.999301               éoliennes\n",
       "169        2  0.005648                    état\n",
       "169        4  0.010040                    état\n",
       "169        6  0.330697                    état\n",
       "169        7  0.062123                    état\n",
       "169        8  0.089734                    état\n",
       "169        9  0.114207                    état\n",
       "169       10  0.387800                    état\n",
       "3418       6  0.993549                   états\n",
       "264        7  0.996127                éteindre\n",
       "2845       4  0.991598               éviterait\n",
       "3502       6  0.990768               évolution\n",
       "\n",
       "[1239 rows x 3 columns], R=30, lambda_step=0.01, plot_opts={'xlab': 'PC1', 'ylab': 'PC2'}, topic_order=[1, 2, 3, 4, 5, 6, 7, 8, 9, 10])"
      ]
     },
     "execution_count": 14,
     "metadata": {},
     "output_type": "execute_result"
    }
   ],
   "source": [
    "import pyLDAvis.gensim\n",
    "import warnings\n",
    "\n",
    "pyLDAvis.enable_notebook()\n",
    "warnings.filterwarnings(\"ignore\", category=DeprecationWarning) \n",
    "\n",
    "pyLDAvis.gensim.prepare(model, corpus, dictionary, sort_topics=False)"
   ]
  },
  {
   "cell_type": "markdown",
   "metadata": {
    "slideshow": {
     "slide_type": "subslide"
    }
   },
   "source": [
    "Enfin, examinons les topics que le modèle reconnaît dans certains des documents individuels. Nous voyons ici comment LDA tend à attribuer une probabilité élevée à un faible nombre de sujets pour chaque document, ce qui rend ses résultats très interprétables."
   ]
  },
  {
   "cell_type": "code",
   "execution_count": 41,
   "metadata": {
    "slideshow": {
     "slide_type": "-"
    }
   },
   "outputs": [
    {
     "name": "stdout",
     "output_type": "stream",
     "text": [
      "***********\n",
      "* doc 1   *\n",
      "***********\n",
      "Multiplier les centrales géothermiques\n",
      "[(5, 0.27430695), (8, 0.5254362)]\n",
      "\n",
      "***********\n",
      "* doc 2   *\n",
      "***********\n",
      "Les problèmes auxquels se trouve confronté l’ensemble de la planète et que dénoncent, dans le plus parfait désordre, les gilets jaunes de France ne sont-ils pas dus, avant tout, à la surpopulation mondiale ? Cette population est passée d’1,5 milliards d’habitants en 1900 à 7 milliards en 2020 et montera bientôt à 10 milliards vers 2040.  Avec les progrès de la communication dans ce village mondial, chaque individu, du fin fond de l’Asie au fin fond de l’Afrique, en passant par les « quartiers » et les « campagnes » de notre pays, aspire à vivre – et on ne peu l’en blâmer – comme les moins mal lotis de nos concitoyens (logement, nourriture, biens de consommation, déplacement,etc.).  Voilà la mère de tous les problèmes. Si tel est bien le cas, la solution à tous les problèmes (stabilisation de la croissance démographique, partage des richesses, partage des terres, partage de l’eau, protection de la biodiversité, règlement des conflits, lutte contre la déforestation, lutte contre dérèglement climatique, règlement des conflits, stabilisation des migrations, concurrence commerciale mondiale, etc.) ne sera ni française, ni européenne, mais mondiale. La France se doit d’y jouer un rôle moteur.  Le reste, autour duquel se déroulera « le Grand débat », paraît assez anecdotique.\n",
      "[(2, 0.8235213)]\n",
      "\n",
      "***********\n",
      "* doc 3   *\n",
      "***********\n",
      "Une vrai politique écologique et non économique\n",
      "[(6, 0.8199753)]\n",
      "\n",
      "***********\n",
      "* doc 4   *\n",
      "***********\n",
      "Les bonnes idées ne grandissent que par le partage.\n",
      "\n",
      "En ces jours pénibles où s'affrontent le peuple et ceux entre lesquels ils ont remis leur sort. (tous concernés puis qu’élus).\n",
      "\n",
      "Une idée qui flotte en ce moment sur la mobilité propre dans les zones non ou mal desservies et qui est encore expérimentale dans quelques communes.\n",
      "\n",
      "L'avenir  est entre vos mains et les nôtres. Pourquoi ne pas planifier l'installation de flotte de véhicules électriques partagés en location, dans ces zones isolées.\n",
      "\n",
      "En construisant un partenariat avec : état, région, département, commune ou communauté, professionnel de la location, entreprises locales, constructeurs de véhicules, les bailleurs sociaux, pour la mise en place. Avec l'apport financier de la TICPE qui baissera au fil de la décroissance de la consommation, il faudra penser à la déconnecter du budget de fonctionnement de l'état !\n",
      "\n",
      "Avec un forfait de location pour les utilisateurs, adapté à leur ressources et peut être tout simplement basé sur leurs dépenses de mobilité actuelles. Ainsi pas d'investissements inaccessibles pour eux.\n",
      "\n",
      "Tout le monde y gagnerait, cela  pourrait prendre l'image du relais de poste comme par le passé et réglerait le problème d'autonomie actuel et engendrerait quelques emplois de service, nouveaux.\n",
      "[(2, 0.13684697), (4, 0.12634256), (6, 0.16841982), (9, 0.2015315), (10, 0.36116502)]\n",
      "\n",
      "***********\n",
      "* doc 5   *\n",
      "***********\n",
      "Pédagogie dans ce sens là dés la petite école pour sensibilisation via les parcs naturels . Les enfants doivent devenir des prescripteurs  pour les générations futures . Il y a urgence\n",
      "[(2, 0.13640082), (4, 0.2681016), (6, 0.5488043)]\n",
      "\n",
      "***********\n",
      "* doc 6   *\n",
      "***********\n",
      "faire de l'écologie incitative et non punitive on n'est pas des gosses à qui on distribue des bonnes ou mauvaises notes\n",
      "[(2, 0.46371236), (10, 0.44722226)]\n",
      "\n",
      "***********\n",
      "* doc 7   *\n",
      "***********\n",
      "Développer le ferroutage pour les poids lourds, Instaurer une vignette pour les poids lourds étrangers qui traversent la France\n",
      "[(9, 0.8150414), (10, 0.13784769)]\n",
      "\n",
      "***********\n",
      "* doc 8   *\n",
      "***********\n",
      "- Favoriser le tri des déchets en mettant en place une redevance incitatrice et non punitive,\n",
      "- Arrêt d'une écologie punitive à base de taxes qui est néfaste à la compréhension d'une écologie intelligente, adaptée et durable.\n",
      "- Revoir la politique de pose des panneaux solaire en Ferme qui en fait gâche des terrains et sert plus à récolter des taxes pour les caisses des collectivités,\n",
      "- Revoir la politique de mise en place des éoliennes qui ne sont pas adaptées, peu rentable (< 30%) et qui produisent des effets néfastes par du bruit et des infra-ondes,\n",
      "- Arrêt du rachat, à des prix exorbitants, de l'énergie produite par des panneaux solaire, par des éoliennes ou par tout autre moyen dit propre (Bio-masse, hydraulique),\n",
      "- Favoriser le développement de la bio-masse,\n",
      "- Développer le stockage intelligent de l'énergie,\n",
      "- Réaliser une grande opération pour assurer l'isolation des bâtiments énergivores,\n",
      "- Éteindre les éclairages la nuit,\n",
      "- Développer les transports en site propre.\n",
      "[(1, 0.18159804), (8, 0.45110586), (10, 0.21095155)]\n",
      "\n"
     ]
    }
   ],
   "source": [
    "# Nous en affichons que 8\n",
    "i = 0\n",
    "for (text, doc) in zip(texts[:8], docs[:8]):\n",
    "    i += 1\n",
    "    print(\"***********\")\n",
    "    print(\"* doc\", i, \"  *\")\n",
    "    print(\"***********\")\n",
    "    print(text)\n",
    "    print([(topic+1, prob) for (topic, prob) in model[dictionary.doc2bow(doc)] if prob > 0.1])\n",
    "    print()"
   ]
  },
  {
   "cell_type": "markdown",
   "metadata": {
    "slideshow": {
     "slide_type": "subslide"
    }
   },
   "source": [
    "**Conclusion**\n",
    "\n",
    "De nombreuses collections de textes non structurés ne sont pas accompagnées d'étiquettes. Les topic models (*modèles thématiques* en français) tels que le LDA sont une technique utile pour découvrir les topics les plus importants dans ces documents. **Gensim** facilite l'apprentissage sur ces sujets et **pyLDAvis** présente les résultats d'une manière visuellement attrayante. Ensemble, ils forment une puissante boîte à outils pour mieux comprendre ce qu'il y a à l'intérieur de grands ensembles de documents et pour explorer des sous-ensembles de textes connexes. Si ces résultats sont souvent déjà très révélateurs, il est également possible de les utiliser comme point de départ, par exemple pour un exercice d'étiquetage pour la classification supervisée de textes. En somme, les modèles thématiques devraient figurer dans la boîte à outils de chaque data scientist comme un moyen très rapide d'obtenir un aperçu des grandes collections de documents."
   ]
  },
  {
   "cell_type": "markdown",
   "metadata": {
    "slideshow": {
     "slide_type": "notes"
    }
   },
   "source": [
    "*inspiré des résultats de [nlptown](https://github.com/nlptown)*"
   ]
  }
 ],
 "metadata": {
  "celltoolbar": "Diaporama",
  "kernelspec": {
   "display_name": "Python 3",
   "language": "python",
   "name": "python3"
  },
  "language_info": {
   "codemirror_mode": {
    "name": "ipython",
    "version": 3
   },
   "file_extension": ".py",
   "mimetype": "text/x-python",
   "name": "python",
   "nbconvert_exporter": "python",
   "pygments_lexer": "ipython3",
   "version": "3.7.3"
  }
 },
 "nbformat": 4,
 "nbformat_minor": 2
}
